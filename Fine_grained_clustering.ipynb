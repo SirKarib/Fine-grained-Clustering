{
 "cells": [
  {
   "cell_type": "markdown",
   "metadata": {},
   "source": [
    "# Fine-grained Clustering of Documents"
   ]
  },
  {
   "cell_type": "markdown",
   "metadata": {},
   "source": [
    "## Import Datasets"
   ]
  },
  {
   "cell_type": "code",
   "execution_count": 37,
   "metadata": {
    "scrolled": true
   },
   "outputs": [
    {
     "data": {
      "text/html": [
       "<div>\n",
       "<style scoped>\n",
       "    .dataframe tbody tr th:only-of-type {\n",
       "        vertical-align: middle;\n",
       "    }\n",
       "\n",
       "    .dataframe tbody tr th {\n",
       "        vertical-align: top;\n",
       "    }\n",
       "\n",
       "    .dataframe thead th {\n",
       "        text-align: right;\n",
       "    }\n",
       "</style>\n",
       "<table border=\"1\" class=\"dataframe\">\n",
       "  <thead>\n",
       "    <tr style=\"text-align: right;\">\n",
       "      <th></th>\n",
       "      <th>ID</th>\n",
       "      <th>Headline</th>\n",
       "      <th>Body</th>\n",
       "    </tr>\n",
       "  </thead>\n",
       "  <tbody>\n",
       "    <tr>\n",
       "      <th>0</th>\n",
       "      <td>32652</td>\n",
       "      <td>В СГТУ пройдет конференция по современным биои...</td>\n",
       "      <td>&lt;div id=\"content-content\"&gt;\\n&lt;div id=\"node-2692...</td>\n",
       "    </tr>\n",
       "    <tr>\n",
       "      <th>1</th>\n",
       "      <td>32651</td>\n",
       "      <td>Продолжается набор слушателей по программам ДПО</td>\n",
       "      <td>&lt;p style=\"text-align: justify;\"&gt;&lt;img style=\"fl...</td>\n",
       "    </tr>\n",
       "    <tr>\n",
       "      <th>2</th>\n",
       "      <td>32650</td>\n",
       "      <td>Студент АМФ - серебряный призер Чемпионата Рос...</td>\n",
       "      <td>&lt;p style=\"text-align: justify;\"&gt;&lt;img style=\"fl...</td>\n",
       "    </tr>\n",
       "    <tr>\n",
       "      <th>3</th>\n",
       "      <td>32643</td>\n",
       "      <td>Сегодня - День Государственного флага РФ</td>\n",
       "      <td>&lt;p style=\"text-align: justify;\"&gt;&lt;img style=\"fl...</td>\n",
       "    </tr>\n",
       "    <tr>\n",
       "      <th>4</th>\n",
       "      <td>58784</td>\n",
       "      <td>Кафедра рекламы и компьютерного дизайна провод...</td>\n",
       "      <td>\\r\\n&lt;div style=\"text-align: justify;\"&gt;Вниманию...</td>\n",
       "    </tr>\n",
       "  </tbody>\n",
       "</table>\n",
       "</div>"
      ],
      "text/plain": [
       "      ID                                           Headline  \\\n",
       "0  32652  В СГТУ пройдет конференция по современным биои...   \n",
       "1  32651    Продолжается набор слушателей по программам ДПО   \n",
       "2  32650  Студент АМФ - серебряный призер Чемпионата Рос...   \n",
       "3  32643           Сегодня - День Государственного флага РФ   \n",
       "4  58784  Кафедра рекламы и компьютерного дизайна провод...   \n",
       "\n",
       "                                                Body  \n",
       "0  <div id=\"content-content\">\\n<div id=\"node-2692...  \n",
       "1  <p style=\"text-align: justify;\"><img style=\"fl...  \n",
       "2  <p style=\"text-align: justify;\"><img style=\"fl...  \n",
       "3  <p style=\"text-align: justify;\"><img style=\"fl...  \n",
       "4  \\r\\n<div style=\"text-align: justify;\">Вниманию...  "
      ]
     },
     "execution_count": 37,
     "metadata": {},
     "output_type": "execute_result"
    }
   ],
   "source": [
    "import numpy as np\n",
    "import pandas as pd\n",
    "#import seaborn as sns; sns.set()\n",
    "\n",
    "\n",
    "excel_data_df = pd.read_excel('corpus.xlsx', sheet_name='etalon export_file')\n",
    "\n",
    "# print whole sheet data\n",
    "excel_data_df.head()"
   ]
  },
  {
   "cell_type": "markdown",
   "metadata": {},
   "source": [
    "## Preprocessing XLSX file "
   ]
  },
  {
   "cell_type": "markdown",
   "metadata": {},
   "source": [
    "##### Select a column Body to clean up HTML tags "
   ]
  },
  {
   "cell_type": "code",
   "execution_count": 38,
   "metadata": {},
   "outputs": [
    {
     "data": {
      "text/plain": [
       "(2000, 3)"
      ]
     },
     "execution_count": 38,
     "metadata": {},
     "output_type": "execute_result"
    }
   ],
   "source": [
    "# check shape of document\n",
    "excel_data_df.shape"
   ]
  },
  {
   "cell_type": "code",
   "execution_count": 39,
   "metadata": {},
   "outputs": [],
   "source": [
    "i = range(0, 2000)\n",
    "body = excel_data_df.loc[i,['Body']]"
   ]
  },
  {
   "cell_type": "code",
   "execution_count": 40,
   "metadata": {
    "scrolled": true
   },
   "outputs": [
    {
     "data": {
      "text/html": [
       "<div>\n",
       "<style scoped>\n",
       "    .dataframe tbody tr th:only-of-type {\n",
       "        vertical-align: middle;\n",
       "    }\n",
       "\n",
       "    .dataframe tbody tr th {\n",
       "        vertical-align: top;\n",
       "    }\n",
       "\n",
       "    .dataframe thead th {\n",
       "        text-align: right;\n",
       "    }\n",
       "</style>\n",
       "<table border=\"1\" class=\"dataframe\">\n",
       "  <thead>\n",
       "    <tr style=\"text-align: right;\">\n",
       "      <th></th>\n",
       "      <th>Body</th>\n",
       "    </tr>\n",
       "  </thead>\n",
       "  <tbody>\n",
       "    <tr>\n",
       "      <th>0</th>\n",
       "      <td>&lt;div id=\"content-content\"&gt;\\n&lt;div id=\"node-2692...</td>\n",
       "    </tr>\n",
       "    <tr>\n",
       "      <th>1</th>\n",
       "      <td>&lt;p style=\"text-align: justify;\"&gt;&lt;img style=\"fl...</td>\n",
       "    </tr>\n",
       "    <tr>\n",
       "      <th>2</th>\n",
       "      <td>&lt;p style=\"text-align: justify;\"&gt;&lt;img style=\"fl...</td>\n",
       "    </tr>\n",
       "    <tr>\n",
       "      <th>3</th>\n",
       "      <td>&lt;p style=\"text-align: justify;\"&gt;&lt;img style=\"fl...</td>\n",
       "    </tr>\n",
       "    <tr>\n",
       "      <th>4</th>\n",
       "      <td>\\r\\n&lt;div style=\"text-align: justify;\"&gt;Вниманию...</td>\n",
       "    </tr>\n",
       "    <tr>\n",
       "      <th>...</th>\n",
       "      <td>...</td>\n",
       "    </tr>\n",
       "    <tr>\n",
       "      <th>1995</th>\n",
       "      <td>&lt;p style=\"text-align: justify;\"&gt;&lt;img style=\"fl...</td>\n",
       "    </tr>\n",
       "    <tr>\n",
       "      <th>1996</th>\n",
       "      <td>&lt;p style=\"text-align: justify;\"&gt;&lt;img style=\"fl...</td>\n",
       "    </tr>\n",
       "    <tr>\n",
       "      <th>1997</th>\n",
       "      <td>&lt;p style=\"text-align: justify;\"&gt;&lt;img style=\"fl...</td>\n",
       "    </tr>\n",
       "    <tr>\n",
       "      <th>1998</th>\n",
       "      <td>&lt;p style=\"text-align: justify;\"&gt;&lt;img style=\"fl...</td>\n",
       "    </tr>\n",
       "    <tr>\n",
       "      <th>1999</th>\n",
       "      <td>&lt;p style=\"text-align: justify;\"&gt;&lt;img style=\"fl...</td>\n",
       "    </tr>\n",
       "  </tbody>\n",
       "</table>\n",
       "<p>2000 rows × 1 columns</p>\n",
       "</div>"
      ],
      "text/plain": [
       "                                                   Body\n",
       "0     <div id=\"content-content\">\\n<div id=\"node-2692...\n",
       "1     <p style=\"text-align: justify;\"><img style=\"fl...\n",
       "2     <p style=\"text-align: justify;\"><img style=\"fl...\n",
       "3     <p style=\"text-align: justify;\"><img style=\"fl...\n",
       "4     \\r\\n<div style=\"text-align: justify;\">Вниманию...\n",
       "...                                                 ...\n",
       "1995  <p style=\"text-align: justify;\"><img style=\"fl...\n",
       "1996  <p style=\"text-align: justify;\"><img style=\"fl...\n",
       "1997  <p style=\"text-align: justify;\"><img style=\"fl...\n",
       "1998  <p style=\"text-align: justify;\"><img style=\"fl...\n",
       "1999  <p style=\"text-align: justify;\"><img style=\"fl...\n",
       "\n",
       "[2000 rows x 1 columns]"
      ]
     },
     "execution_count": 40,
     "metadata": {},
     "output_type": "execute_result"
    }
   ],
   "source": [
    "body"
   ]
  },
  {
   "cell_type": "code",
   "execution_count": null,
   "metadata": {},
   "outputs": [],
   "source": []
  },
  {
   "cell_type": "code",
   "execution_count": null,
   "metadata": {},
   "outputs": [],
   "source": []
  }
 ],
 "metadata": {
  "kernelspec": {
   "display_name": "Python 3",
   "language": "python",
   "name": "python3"
  },
  "language_info": {
   "codemirror_mode": {
    "name": "ipython",
    "version": 3
   },
   "file_extension": ".py",
   "mimetype": "text/x-python",
   "name": "python",
   "nbconvert_exporter": "python",
   "pygments_lexer": "ipython3",
   "version": "3.8.5"
  }
 },
 "nbformat": 4,
 "nbformat_minor": 4
}
