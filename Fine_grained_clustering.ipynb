{
 "cells": [
  {
   "cell_type": "markdown",
   "metadata": {},
   "source": [
    "# Fine-grained Clustering of Documents"
   ]
  },
  {
   "cell_type": "markdown",
   "metadata": {},
   "source": [
    "## Import Dataset"
   ]
  },
  {
   "cell_type": "code",
   "execution_count": 95,
   "metadata": {
    "scrolled": true
   },
   "outputs": [
    {
     "data": {
      "text/html": [
       "<div>\n",
       "<style scoped>\n",
       "    .dataframe tbody tr th:only-of-type {\n",
       "        vertical-align: middle;\n",
       "    }\n",
       "\n",
       "    .dataframe tbody tr th {\n",
       "        vertical-align: top;\n",
       "    }\n",
       "\n",
       "    .dataframe thead th {\n",
       "        text-align: right;\n",
       "    }\n",
       "</style>\n",
       "<table border=\"1\" class=\"dataframe\">\n",
       "  <thead>\n",
       "    <tr style=\"text-align: right;\">\n",
       "      <th></th>\n",
       "      <th>ID</th>\n",
       "      <th>Headline</th>\n",
       "      <th>Body</th>\n",
       "    </tr>\n",
       "  </thead>\n",
       "  <tbody>\n",
       "    <tr>\n",
       "      <th>0</th>\n",
       "      <td>32652</td>\n",
       "      <td>В СГТУ пройдет конференция по современным биои...</td>\n",
       "      <td>&lt;div id=\"content-content\"&gt;\\n&lt;div id=\"node-2692...</td>\n",
       "    </tr>\n",
       "    <tr>\n",
       "      <th>1</th>\n",
       "      <td>32651</td>\n",
       "      <td>Продолжается набор слушателей по программам ДПО</td>\n",
       "      <td>&lt;p style=\"text-align: justify;\"&gt;&lt;img style=\"fl...</td>\n",
       "    </tr>\n",
       "    <tr>\n",
       "      <th>2</th>\n",
       "      <td>32650</td>\n",
       "      <td>Студент АМФ - серебряный призер Чемпионата Рос...</td>\n",
       "      <td>&lt;p style=\"text-align: justify;\"&gt;&lt;img style=\"fl...</td>\n",
       "    </tr>\n",
       "    <tr>\n",
       "      <th>3</th>\n",
       "      <td>32643</td>\n",
       "      <td>Сегодня - День Государственного флага РФ</td>\n",
       "      <td>&lt;p style=\"text-align: justify;\"&gt;&lt;img style=\"fl...</td>\n",
       "    </tr>\n",
       "    <tr>\n",
       "      <th>4</th>\n",
       "      <td>58784</td>\n",
       "      <td>Кафедра рекламы и компьютерного дизайна провод...</td>\n",
       "      <td>\\r\\n&lt;div style=\"text-align: justify;\"&gt;Вниманию...</td>\n",
       "    </tr>\n",
       "  </tbody>\n",
       "</table>\n",
       "</div>"
      ],
      "text/plain": [
       "      ID                                           Headline  \\\n",
       "0  32652  В СГТУ пройдет конференция по современным биои...   \n",
       "1  32651    Продолжается набор слушателей по программам ДПО   \n",
       "2  32650  Студент АМФ - серебряный призер Чемпионата Рос...   \n",
       "3  32643           Сегодня - День Государственного флага РФ   \n",
       "4  58784  Кафедра рекламы и компьютерного дизайна провод...   \n",
       "\n",
       "                                                Body  \n",
       "0  <div id=\"content-content\">\\n<div id=\"node-2692...  \n",
       "1  <p style=\"text-align: justify;\"><img style=\"fl...  \n",
       "2  <p style=\"text-align: justify;\"><img style=\"fl...  \n",
       "3  <p style=\"text-align: justify;\"><img style=\"fl...  \n",
       "4  \\r\\n<div style=\"text-align: justify;\">Вниманию...  "
      ]
     },
     "execution_count": 95,
     "metadata": {},
     "output_type": "execute_result"
    }
   ],
   "source": [
    "import pandas as pd\n",
    "#import seaborn as sns; sns.set()\n",
    "\n",
    "df = pd.read_excel('corpus.xlsx', sheet_name='etalon export_file')\n",
    "\n",
    "df.head()"
   ]
  },
  {
   "cell_type": "markdown",
   "metadata": {},
   "source": [
    "## Preprocessing XLSX file "
   ]
  },
  {
   "cell_type": "markdown",
   "metadata": {},
   "source": [
    "#### Edit sheet"
   ]
  },
  {
   "cell_type": "code",
   "execution_count": 96,
   "metadata": {},
   "outputs": [
    {
     "data": {
      "text/html": [
       "<div>\n",
       "<style scoped>\n",
       "    .dataframe tbody tr th:only-of-type {\n",
       "        vertical-align: middle;\n",
       "    }\n",
       "\n",
       "    .dataframe tbody tr th {\n",
       "        vertical-align: top;\n",
       "    }\n",
       "\n",
       "    .dataframe thead th {\n",
       "        text-align: right;\n",
       "    }\n",
       "</style>\n",
       "<table border=\"1\" class=\"dataframe\">\n",
       "  <thead>\n",
       "    <tr style=\"text-align: right;\">\n",
       "      <th></th>\n",
       "      <th>Headline</th>\n",
       "      <th>Body</th>\n",
       "      <th>new</th>\n",
       "    </tr>\n",
       "  </thead>\n",
       "  <tbody>\n",
       "    <tr>\n",
       "      <th>0</th>\n",
       "      <td>В СГТУ пройдет конференция по современным биои...</td>\n",
       "      <td>&lt;div id=\"content-content\"&gt;\\n&lt;div id=\"node-2692...</td>\n",
       "      <td>&lt;div id=\"content-content\"&gt;\\n&lt;div id=\"node-2692...</td>\n",
       "    </tr>\n",
       "    <tr>\n",
       "      <th>1</th>\n",
       "      <td>Продолжается набор слушателей по программам ДПО</td>\n",
       "      <td>&lt;p style=\"text-align: justify;\"&gt;&lt;img style=\"fl...</td>\n",
       "      <td>&lt;p style=\"text-align: justify;\"&gt;&lt;img style=\"fl...</td>\n",
       "    </tr>\n",
       "    <tr>\n",
       "      <th>2</th>\n",
       "      <td>Студент АМФ - серебряный призер Чемпионата Рос...</td>\n",
       "      <td>&lt;p style=\"text-align: justify;\"&gt;&lt;img style=\"fl...</td>\n",
       "      <td>&lt;p style=\"text-align: justify;\"&gt;&lt;img style=\"fl...</td>\n",
       "    </tr>\n",
       "    <tr>\n",
       "      <th>3</th>\n",
       "      <td>Сегодня - День Государственного флага РФ</td>\n",
       "      <td>&lt;p style=\"text-align: justify;\"&gt;&lt;img style=\"fl...</td>\n",
       "      <td>&lt;p style=\"text-align: justify;\"&gt;&lt;img style=\"fl...</td>\n",
       "    </tr>\n",
       "    <tr>\n",
       "      <th>4</th>\n",
       "      <td>Кафедра рекламы и компьютерного дизайна провод...</td>\n",
       "      <td>\\r\\n&lt;div style=\"text-align: justify;\"&gt;Вниманию...</td>\n",
       "      <td>\\r\\n&lt;div style=\"text-align: justify;\"&gt;Вниманию...</td>\n",
       "    </tr>\n",
       "  </tbody>\n",
       "</table>\n",
       "</div>"
      ],
      "text/plain": [
       "                                            Headline  \\\n",
       "0  В СГТУ пройдет конференция по современным биои...   \n",
       "1    Продолжается набор слушателей по программам ДПО   \n",
       "2  Студент АМФ - серебряный призер Чемпионата Рос...   \n",
       "3           Сегодня - День Государственного флага РФ   \n",
       "4  Кафедра рекламы и компьютерного дизайна провод...   \n",
       "\n",
       "                                                Body  \\\n",
       "0  <div id=\"content-content\">\\n<div id=\"node-2692...   \n",
       "1  <p style=\"text-align: justify;\"><img style=\"fl...   \n",
       "2  <p style=\"text-align: justify;\"><img style=\"fl...   \n",
       "3  <p style=\"text-align: justify;\"><img style=\"fl...   \n",
       "4  \\r\\n<div style=\"text-align: justify;\">Вниманию...   \n",
       "\n",
       "                                                 new  \n",
       "0  <div id=\"content-content\">\\n<div id=\"node-2692...  \n",
       "1  <p style=\"text-align: justify;\"><img style=\"fl...  \n",
       "2  <p style=\"text-align: justify;\"><img style=\"fl...  \n",
       "3  <p style=\"text-align: justify;\"><img style=\"fl...  \n",
       "4  \\r\\n<div style=\"text-align: justify;\">Вниманию...  "
      ]
     },
     "execution_count": 96,
     "metadata": {},
     "output_type": "execute_result"
    }
   ],
   "source": [
    "df['new'] = df['Body']              # clone column Body for next changes\n",
    "df.drop(\"ID\", axis=1, inplace=True) # delete a column ID\n",
    "\n",
    "df.head()"
   ]
  },
  {
   "cell_type": "markdown",
   "metadata": {},
   "source": [
    "#### Delete HTML tags and special chars"
   ]
  },
  {
   "cell_type": "code",
   "execution_count": 97,
   "metadata": {},
   "outputs": [
    {
     "data": {
      "text/html": [
       "<div>\n",
       "<style scoped>\n",
       "    .dataframe tbody tr th:only-of-type {\n",
       "        vertical-align: middle;\n",
       "    }\n",
       "\n",
       "    .dataframe tbody tr th {\n",
       "        vertical-align: top;\n",
       "    }\n",
       "\n",
       "    .dataframe thead th {\n",
       "        text-align: right;\n",
       "    }\n",
       "</style>\n",
       "<table border=\"1\" class=\"dataframe\">\n",
       "  <thead>\n",
       "    <tr style=\"text-align: right;\">\n",
       "      <th></th>\n",
       "      <th>Headline</th>\n",
       "      <th>Body</th>\n",
       "      <th>new</th>\n",
       "    </tr>\n",
       "  </thead>\n",
       "  <tbody>\n",
       "    <tr>\n",
       "      <th>0</th>\n",
       "      <td>В СГТУ пройдет конференция по современным биои...</td>\n",
       "      <td>&lt;div id=\"content-content\"&gt;\\n&lt;div id=\"node-2692...</td>\n",
       "      <td>\\n \\n \\n \\n \\n \\n октября г на базе каф БМА Ф...</td>\n",
       "    </tr>\n",
       "    <tr>\n",
       "      <th>1</th>\n",
       "      <td>Продолжается набор слушателей по программам ДПО</td>\n",
       "      <td>&lt;p style=\"text-align: justify;\"&gt;&lt;img style=\"fl...</td>\n",
       "      <td>A M R R H P I В Саратовском государственном т...</td>\n",
       "    </tr>\n",
       "    <tr>\n",
       "      <th>2</th>\n",
       "      <td>Студент АМФ - серебряный призер Чемпионата Рос...</td>\n",
       "      <td>&lt;p style=\"text-align: justify;\"&gt;&lt;img style=\"fl...</td>\n",
       "      <td>ZIG M JPG августа года в Ставрополе состоялся...</td>\n",
       "    </tr>\n",
       "    <tr>\n",
       "      <th>3</th>\n",
       "      <td>Сегодня - День Государственного флага РФ</td>\n",
       "      <td>&lt;p style=\"text-align: justify;\"&gt;&lt;img style=\"fl...</td>\n",
       "      <td>Ежегодно августа в России отмечается День Гос...</td>\n",
       "    </tr>\n",
       "    <tr>\n",
       "      <th>4</th>\n",
       "      <td>Кафедра рекламы и компьютерного дизайна провод...</td>\n",
       "      <td>\\r\\n&lt;div style=\"text-align: justify;\"&gt;Вниманию...</td>\n",
       "      <td>\\r\\n Вниманию студентов и кураторов  МФПИТ мар...</td>\n",
       "    </tr>\n",
       "  </tbody>\n",
       "</table>\n",
       "</div>"
      ],
      "text/plain": [
       "                                            Headline  \\\n",
       "0  В СГТУ пройдет конференция по современным биои...   \n",
       "1    Продолжается набор слушателей по программам ДПО   \n",
       "2  Студент АМФ - серебряный призер Чемпионата Рос...   \n",
       "3           Сегодня - День Государственного флага РФ   \n",
       "4  Кафедра рекламы и компьютерного дизайна провод...   \n",
       "\n",
       "                                                Body  \\\n",
       "0  <div id=\"content-content\">\\n<div id=\"node-2692...   \n",
       "1  <p style=\"text-align: justify;\"><img style=\"fl...   \n",
       "2  <p style=\"text-align: justify;\"><img style=\"fl...   \n",
       "3  <p style=\"text-align: justify;\"><img style=\"fl...   \n",
       "4  \\r\\n<div style=\"text-align: justify;\">Вниманию...   \n",
       "\n",
       "                                                 new  \n",
       "0   \\n \\n \\n \\n \\n \\n октября г на базе каф БМА Ф...  \n",
       "1   A M R R H P I В Саратовском государственном т...  \n",
       "2   ZIG M JPG августа года в Ставрополе состоялся...  \n",
       "3   Ежегодно августа в России отмечается День Гос...  \n",
       "4  \\r\\n Вниманию студентов и кураторов  МФПИТ мар...  "
      ]
     },
     "execution_count": 97,
     "metadata": {},
     "output_type": "execute_result"
    }
   ],
   "source": [
    "import re # регулярные выражения\n",
    "\n",
    "df['new'] = df['new'].str.replace(r'[a-z]+', '')     # убираем латиницу\n",
    "df['new'] = df['new'].str.replace(r'[^\\w\\s]+', ' ')  # убираем пунктуацию\n",
    "df['new'] = df['new'].str.replace(r'[0-9]+', '')     # убираем цифры\n",
    "df['new'] = df['new'].str.replace(r'\\sто\\s', ' ')    # убираем частицу 'то'\n",
    "df['new'] = df['new'].apply(lambda row: re.sub(' +', ' ', row)) # убираем мультипробелы\n",
    "\n",
    "df.head()"
   ]
  },
  {
   "cell_type": "code",
   "execution_count": 98,
   "metadata": {},
   "outputs": [],
   "source": [
    "#remove_words = ['abc', 'div', 'ООО', '\\n\\xa0«»\\t—…']\n",
    "\n",
    "\n",
    "#pat = r'\\b(?:{})\\b'.format('|'.join(remove_words))\n",
    "\n",
    "#pat"
   ]
  },
  {
   "cell_type": "code",
   "execution_count": 99,
   "metadata": {
    "scrolled": false
   },
   "outputs": [],
   "source": [
    "#df['new'] = df['Body'].str.replace(pat, '')\n",
    "\n",
    "#df.head()"
   ]
  },
  {
   "cell_type": "markdown",
   "metadata": {},
   "source": [
    "#### Lemmatize the text"
   ]
  },
  {
   "cell_type": "code",
   "execution_count": 100,
   "metadata": {},
   "outputs": [
    {
     "ename": "NameError",
     "evalue": "name 'text_tokens' is not defined",
     "output_type": "error",
     "traceback": [
      "\u001b[1;31m---------------------------------------------------------------------------\u001b[0m",
      "\u001b[1;31mNameError\u001b[0m                                 Traceback (most recent call last)",
      "\u001b[1;32m<ipython-input-100-9bbb83059b17>\u001b[0m in \u001b[0;36m<module>\u001b[1;34m\u001b[0m\n\u001b[0;32m      6\u001b[0m \u001b[1;33m\u001b[0m\u001b[0m\n\u001b[0;32m      7\u001b[0m \u001b[1;31m# Для применения инструментов частотного анализа библиотеки NLTK необходимо список токенов преобразовать к классу Text\u001b[0m\u001b[1;33m\u001b[0m\u001b[1;33m\u001b[0m\u001b[1;33m\u001b[0m\u001b[0m\n\u001b[1;32m----> 8\u001b[1;33m \u001b[0mtext\u001b[0m \u001b[1;33m=\u001b[0m \u001b[0mnltk\u001b[0m\u001b[1;33m.\u001b[0m\u001b[0mText\u001b[0m\u001b[1;33m(\u001b[0m\u001b[0mtext_tokens\u001b[0m\u001b[1;33m)\u001b[0m\u001b[1;33m\u001b[0m\u001b[1;33m\u001b[0m\u001b[0m\n\u001b[0m\u001b[0;32m      9\u001b[0m \u001b[0mprint\u001b[0m\u001b[1;33m(\u001b[0m\u001b[0mtype\u001b[0m\u001b[1;33m(\u001b[0m\u001b[0mtext\u001b[0m\u001b[1;33m)\u001b[0m\u001b[1;33m)\u001b[0m\u001b[1;33m\u001b[0m\u001b[1;33m\u001b[0m\u001b[0m\n\u001b[0;32m     10\u001b[0m \u001b[1;33m\u001b[0m\u001b[0m\n",
      "\u001b[1;31mNameError\u001b[0m: name 'text_tokens' is not defined"
     ]
    }
   ],
   "source": [
    "import nltk\n",
    "from nltk import word_tokenize\n",
    "from nltk.corpus import stopwords\n",
    "from nltk.probability import FreqDist\n",
    "\n",
    "\n",
    "# Для применения инструментов частотного анализа библиотеки NLTK необходимо список токенов преобразовать к классу Text\n",
    "text = nltk.Text(text_tokens)\n",
    "print(type(text))\n",
    "\n",
    "# Получим список стоп-слов для русского языка\n",
    "russian_stopwords = stopwords.words(\"russian\")  \n",
    "russian_stopwords.extend(['это', 'и', 'нем'])\n",
    "\n",
    "text_tokens = [token.strip() for token in text_tokens if token not in russian_stopwords]\n",
    "print(text_tokens, type(text_tokens), len(text_tokens))\n"
   ]
  },
  {
   "cell_type": "code",
   "execution_count": null,
   "metadata": {},
   "outputs": [],
   "source": []
  },
  {
   "cell_type": "code",
   "execution_count": null,
   "metadata": {},
   "outputs": [],
   "source": []
  },
  {
   "cell_type": "markdown",
   "metadata": {},
   "source": [
    "## K-means"
   ]
  },
  {
   "cell_type": "code",
   "execution_count": 50,
   "metadata": {},
   "outputs": [
    {
     "data": {
      "text/plain": [
       "KMeans(n_clusters=3)"
      ]
     },
     "execution_count": 50,
     "metadata": {},
     "output_type": "execute_result"
    }
   ],
   "source": [
    "from sklearn.datasets import make_blobs\n",
    "from sklearn.cluster import KMeans\n",
    "\n",
    "# генерируем синтетические двумерные данные\n",
    "X, y = make_blobs(random_state=1)\n",
    "\n",
    "# строим модель кластеризации\n",
    "kmeans = KMeans(n_clusters=3)\n",
    "kmeans.fit(X)"
   ]
  },
  {
   "cell_type": "markdown",
   "metadata": {},
   "source": [
    "## KD-trees"
   ]
  },
  {
   "cell_type": "markdown",
   "metadata": {},
   "source": [
    "## LSH"
   ]
  },
  {
   "cell_type": "code",
   "execution_count": null,
   "metadata": {},
   "outputs": [],
   "source": []
  },
  {
   "cell_type": "code",
   "execution_count": 80,
   "metadata": {
    "scrolled": true
   },
   "outputs": [],
   "source": [
    "i = range(0, 2000)\n",
    "body = df.loc[i,['Body']]\n",
    "#body"
   ]
  }
 ],
 "metadata": {
  "kernelspec": {
   "display_name": "Python 3",
   "language": "python",
   "name": "python3"
  },
  "language_info": {
   "codemirror_mode": {
    "name": "ipython",
    "version": 3
   },
   "file_extension": ".py",
   "mimetype": "text/x-python",
   "name": "python",
   "nbconvert_exporter": "python",
   "pygments_lexer": "ipython3",
   "version": "3.8.5"
  }
 },
 "nbformat": 4,
 "nbformat_minor": 4
}
