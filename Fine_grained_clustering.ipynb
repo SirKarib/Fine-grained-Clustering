{
 "cells": [
  {
   "cell_type": "markdown",
   "metadata": {},
   "source": [
    "# Fine-grained Clustering of Documents"
   ]
  },
  {
   "cell_type": "markdown",
   "metadata": {},
   "source": [
    "## Import Dataset"
   ]
  },
  {
   "cell_type": "code",
   "execution_count": 66,
   "metadata": {
    "scrolled": true
   },
   "outputs": [
    {
     "data": {
      "text/html": [
       "<div>\n",
       "<style scoped>\n",
       "    .dataframe tbody tr th:only-of-type {\n",
       "        vertical-align: middle;\n",
       "    }\n",
       "\n",
       "    .dataframe tbody tr th {\n",
       "        vertical-align: top;\n",
       "    }\n",
       "\n",
       "    .dataframe thead th {\n",
       "        text-align: right;\n",
       "    }\n",
       "</style>\n",
       "<table border=\"1\" class=\"dataframe\">\n",
       "  <thead>\n",
       "    <tr style=\"text-align: right;\">\n",
       "      <th></th>\n",
       "      <th>ID</th>\n",
       "      <th>Headline</th>\n",
       "      <th>Body</th>\n",
       "    </tr>\n",
       "  </thead>\n",
       "  <tbody>\n",
       "    <tr>\n",
       "      <th>0</th>\n",
       "      <td>32652</td>\n",
       "      <td>В СГТУ пройдет конференция по современным биои...</td>\n",
       "      <td>&lt;div id=\"content-content\"&gt;\\n&lt;div id=\"node-2692...</td>\n",
       "    </tr>\n",
       "    <tr>\n",
       "      <th>1</th>\n",
       "      <td>32651</td>\n",
       "      <td>Продолжается набор слушателей по программам ДПО</td>\n",
       "      <td>&lt;p style=\"text-align: justify;\"&gt;&lt;img style=\"fl...</td>\n",
       "    </tr>\n",
       "    <tr>\n",
       "      <th>2</th>\n",
       "      <td>32650</td>\n",
       "      <td>Студент АМФ - серебряный призер Чемпионата Рос...</td>\n",
       "      <td>&lt;p style=\"text-align: justify;\"&gt;&lt;img style=\"fl...</td>\n",
       "    </tr>\n",
       "    <tr>\n",
       "      <th>3</th>\n",
       "      <td>32643</td>\n",
       "      <td>Сегодня - День Государственного флага РФ</td>\n",
       "      <td>&lt;p style=\"text-align: justify;\"&gt;&lt;img style=\"fl...</td>\n",
       "    </tr>\n",
       "    <tr>\n",
       "      <th>4</th>\n",
       "      <td>58784</td>\n",
       "      <td>Кафедра рекламы и компьютерного дизайна провод...</td>\n",
       "      <td>\\r\\n&lt;div style=\"text-align: justify;\"&gt;Вниманию...</td>\n",
       "    </tr>\n",
       "  </tbody>\n",
       "</table>\n",
       "</div>"
      ],
      "text/plain": [
       "      ID                                           Headline  \\\n",
       "0  32652  В СГТУ пройдет конференция по современным биои...   \n",
       "1  32651    Продолжается набор слушателей по программам ДПО   \n",
       "2  32650  Студент АМФ - серебряный призер Чемпионата Рос...   \n",
       "3  32643           Сегодня - День Государственного флага РФ   \n",
       "4  58784  Кафедра рекламы и компьютерного дизайна провод...   \n",
       "\n",
       "                                                Body  \n",
       "0  <div id=\"content-content\">\\n<div id=\"node-2692...  \n",
       "1  <p style=\"text-align: justify;\"><img style=\"fl...  \n",
       "2  <p style=\"text-align: justify;\"><img style=\"fl...  \n",
       "3  <p style=\"text-align: justify;\"><img style=\"fl...  \n",
       "4  \\r\\n<div style=\"text-align: justify;\">Вниманию...  "
      ]
     },
     "execution_count": 66,
     "metadata": {},
     "output_type": "execute_result"
    }
   ],
   "source": [
    "import numpy as np\n",
    "import pandas as pd\n",
    "#import seaborn as sns; sns.set()\n",
    "\n",
    "excel_data_df = pd.read_excel('corpus.xlsx', sheet_name='etalon export_file')\n",
    "\n",
    "# print whole sheet data\n",
    "excel_data_df.head()"
   ]
  },
  {
   "cell_type": "markdown",
   "metadata": {},
   "source": [
    "## Preprocessing XLSX file "
   ]
  },
  {
   "cell_type": "markdown",
   "metadata": {},
   "source": [
    "#### Select a column Body to clean up HTML tags "
   ]
  },
  {
   "cell_type": "code",
   "execution_count": 67,
   "metadata": {},
   "outputs": [
    {
     "data": {
      "text/plain": [
       "(2000, 3)"
      ]
     },
     "execution_count": 67,
     "metadata": {},
     "output_type": "execute_result"
    }
   ],
   "source": [
    "# find out how many rows are in the sheet\n",
    "excel_data_df.shape"
   ]
  },
  {
   "cell_type": "code",
   "execution_count": 68,
   "metadata": {},
   "outputs": [
    {
     "data": {
      "text/html": [
       "<div>\n",
       "<style scoped>\n",
       "    .dataframe tbody tr th:only-of-type {\n",
       "        vertical-align: middle;\n",
       "    }\n",
       "\n",
       "    .dataframe tbody tr th {\n",
       "        vertical-align: top;\n",
       "    }\n",
       "\n",
       "    .dataframe thead th {\n",
       "        text-align: right;\n",
       "    }\n",
       "</style>\n",
       "<table border=\"1\" class=\"dataframe\">\n",
       "  <thead>\n",
       "    <tr style=\"text-align: right;\">\n",
       "      <th></th>\n",
       "      <th>Body</th>\n",
       "    </tr>\n",
       "  </thead>\n",
       "  <tbody>\n",
       "    <tr>\n",
       "      <th>0</th>\n",
       "      <td>&lt;div id=\"content-content\"&gt;\\n&lt;div id=\"node-2692...</td>\n",
       "    </tr>\n",
       "    <tr>\n",
       "      <th>1</th>\n",
       "      <td>&lt;p style=\"text-align: justify;\"&gt;&lt;img style=\"fl...</td>\n",
       "    </tr>\n",
       "    <tr>\n",
       "      <th>2</th>\n",
       "      <td>&lt;p style=\"text-align: justify;\"&gt;&lt;img style=\"fl...</td>\n",
       "    </tr>\n",
       "    <tr>\n",
       "      <th>3</th>\n",
       "      <td>&lt;p style=\"text-align: justify;\"&gt;&lt;img style=\"fl...</td>\n",
       "    </tr>\n",
       "    <tr>\n",
       "      <th>4</th>\n",
       "      <td>\\r\\n&lt;div style=\"text-align: justify;\"&gt;Вниманию...</td>\n",
       "    </tr>\n",
       "    <tr>\n",
       "      <th>...</th>\n",
       "      <td>...</td>\n",
       "    </tr>\n",
       "    <tr>\n",
       "      <th>1995</th>\n",
       "      <td>&lt;p style=\"text-align: justify;\"&gt;&lt;img style=\"fl...</td>\n",
       "    </tr>\n",
       "    <tr>\n",
       "      <th>1996</th>\n",
       "      <td>&lt;p style=\"text-align: justify;\"&gt;&lt;img style=\"fl...</td>\n",
       "    </tr>\n",
       "    <tr>\n",
       "      <th>1997</th>\n",
       "      <td>&lt;p style=\"text-align: justify;\"&gt;&lt;img style=\"fl...</td>\n",
       "    </tr>\n",
       "    <tr>\n",
       "      <th>1998</th>\n",
       "      <td>&lt;p style=\"text-align: justify;\"&gt;&lt;img style=\"fl...</td>\n",
       "    </tr>\n",
       "    <tr>\n",
       "      <th>1999</th>\n",
       "      <td>&lt;p style=\"text-align: justify;\"&gt;&lt;img style=\"fl...</td>\n",
       "    </tr>\n",
       "  </tbody>\n",
       "</table>\n",
       "<p>2000 rows × 1 columns</p>\n",
       "</div>"
      ],
      "text/plain": [
       "                                                   Body\n",
       "0     <div id=\"content-content\">\\n<div id=\"node-2692...\n",
       "1     <p style=\"text-align: justify;\"><img style=\"fl...\n",
       "2     <p style=\"text-align: justify;\"><img style=\"fl...\n",
       "3     <p style=\"text-align: justify;\"><img style=\"fl...\n",
       "4     \\r\\n<div style=\"text-align: justify;\">Вниманию...\n",
       "...                                                 ...\n",
       "1995  <p style=\"text-align: justify;\"><img style=\"fl...\n",
       "1996  <p style=\"text-align: justify;\"><img style=\"fl...\n",
       "1997  <p style=\"text-align: justify;\"><img style=\"fl...\n",
       "1998  <p style=\"text-align: justify;\"><img style=\"fl...\n",
       "1999  <p style=\"text-align: justify;\"><img style=\"fl...\n",
       "\n",
       "[2000 rows x 1 columns]"
      ]
     },
     "execution_count": 68,
     "metadata": {},
     "output_type": "execute_result"
    }
   ],
   "source": [
    "i = range(0, 2000)\n",
    "body = excel_data_df.loc[i,['Body']]\n",
    "body"
   ]
  },
  {
   "cell_type": "markdown",
   "metadata": {},
   "source": [
    "#### Text"
   ]
  },
  {
   "cell_type": "code",
   "execution_count": 72,
   "metadata": {},
   "outputs": [],
   "source": [
    "import string\n",
    "import nltk\n",
    "from nltk import word_tokenize\n",
    "from nltk.corpus import stopwords\n",
    "from nltk.probability import FreqDist\n",
    "\n",
    "# Набор специальных символов, которые будут удалены из текста\n",
    "spec_chars = string.punctuation + '\\n\\xa0«»\\t—…'  \n"
   ]
  },
  {
   "cell_type": "markdown",
   "metadata": {},
   "source": [
    "#### Converting text to lower case"
   ]
  },
  {
   "cell_type": "code",
   "execution_count": 74,
   "metadata": {},
   "outputs": [
    {
     "data": {
      "text/plain": [
       "'\\\\b(?:abc|div|pls)\\\\b'"
      ]
     },
     "execution_count": 74,
     "metadata": {},
     "output_type": "execute_result"
    }
   ],
   "source": [
    "remove_words = ['abc', 'div', 'pls']\n",
    "\n",
    "pat = r'\\b(?:{})\\b'.format('|'.join(remove_words))\n",
    "\n",
    "pat"
   ]
  },
  {
   "cell_type": "code",
   "execution_count": 77,
   "metadata": {},
   "outputs": [
    {
     "data": {
      "text/html": [
       "<div>\n",
       "<style scoped>\n",
       "    .dataframe tbody tr th:only-of-type {\n",
       "        vertical-align: middle;\n",
       "    }\n",
       "\n",
       "    .dataframe tbody tr th {\n",
       "        vertical-align: top;\n",
       "    }\n",
       "\n",
       "    .dataframe thead th {\n",
       "        text-align: right;\n",
       "    }\n",
       "</style>\n",
       "<table border=\"1\" class=\"dataframe\">\n",
       "  <thead>\n",
       "    <tr style=\"text-align: right;\">\n",
       "      <th></th>\n",
       "      <th>ID</th>\n",
       "      <th>Headline</th>\n",
       "      <th>Body</th>\n",
       "      <th>new</th>\n",
       "    </tr>\n",
       "  </thead>\n",
       "  <tbody>\n",
       "    <tr>\n",
       "      <th>0</th>\n",
       "      <td>32652</td>\n",
       "      <td>В СГТУ пройдет конференция по современным биои...</td>\n",
       "      <td>&lt;div id=\"content-content\"&gt;\\n&lt;div id=\"node-2692...</td>\n",
       "      <td>&lt; id=\"content-content\"&gt;\\n&lt; id=\"node-26925\" cla...</td>\n",
       "    </tr>\n",
       "    <tr>\n",
       "      <th>1</th>\n",
       "      <td>32651</td>\n",
       "      <td>Продолжается набор слушателей по программам ДПО</td>\n",
       "      <td>&lt;p style=\"text-align: justify;\"&gt;&lt;img style=\"fl...</td>\n",
       "      <td>&lt;p style=\"text-align: justify;\"&gt;&lt;img style=\"fl...</td>\n",
       "    </tr>\n",
       "    <tr>\n",
       "      <th>2</th>\n",
       "      <td>32650</td>\n",
       "      <td>Студент АМФ - серебряный призер Чемпионата Рос...</td>\n",
       "      <td>&lt;p style=\"text-align: justify;\"&gt;&lt;img style=\"fl...</td>\n",
       "      <td>&lt;p style=\"text-align: justify;\"&gt;&lt;img style=\"fl...</td>\n",
       "    </tr>\n",
       "    <tr>\n",
       "      <th>3</th>\n",
       "      <td>32643</td>\n",
       "      <td>Сегодня - День Государственного флага РФ</td>\n",
       "      <td>&lt;p style=\"text-align: justify;\"&gt;&lt;img style=\"fl...</td>\n",
       "      <td>&lt;p style=\"text-align: justify;\"&gt;&lt;img style=\"fl...</td>\n",
       "    </tr>\n",
       "    <tr>\n",
       "      <th>4</th>\n",
       "      <td>58784</td>\n",
       "      <td>Кафедра рекламы и компьютерного дизайна провод...</td>\n",
       "      <td>\\r\\n&lt;div style=\"text-align: justify;\"&gt;Вниманию...</td>\n",
       "      <td>\\r\\n&lt; style=\"text-align: justify;\"&gt;Вниманию ст...</td>\n",
       "    </tr>\n",
       "    <tr>\n",
       "      <th>...</th>\n",
       "      <td>...</td>\n",
       "      <td>...</td>\n",
       "      <td>...</td>\n",
       "      <td>...</td>\n",
       "    </tr>\n",
       "    <tr>\n",
       "      <th>1995</th>\n",
       "      <td>18527</td>\n",
       "      <td>Профессор СГТУ - победитель конкурса РФФИ</td>\n",
       "      <td>&lt;p style=\"text-align: justify;\"&gt;&lt;img style=\"fl...</td>\n",
       "      <td>&lt;p style=\"text-align: justify;\"&gt;&lt;img style=\"fl...</td>\n",
       "    </tr>\n",
       "    <tr>\n",
       "      <th>1996</th>\n",
       "      <td>18528</td>\n",
       "      <td>В санатории ?Чайка? начинается вторая смена</td>\n",
       "      <td>&lt;p style=\"text-align: justify;\"&gt;&lt;img style=\"fl...</td>\n",
       "      <td>&lt;p style=\"text-align: justify;\"&gt;&lt;img style=\"fl...</td>\n",
       "    </tr>\n",
       "    <tr>\n",
       "      <th>1997</th>\n",
       "      <td>18529</td>\n",
       "      <td>Юбилейный выпуск переводчиков получил дипломы</td>\n",
       "      <td>&lt;p style=\"text-align: justify;\"&gt;&lt;img style=\"fl...</td>\n",
       "      <td>&lt;p style=\"text-align: justify;\"&gt;&lt;img style=\"fl...</td>\n",
       "    </tr>\n",
       "    <tr>\n",
       "      <th>1998</th>\n",
       "      <td>18530</td>\n",
       "      <td>В Волгограде прошла конференция в рамках проек...</td>\n",
       "      <td>&lt;p style=\"text-align: justify;\"&gt;&lt;img style=\"fl...</td>\n",
       "      <td>&lt;p style=\"text-align: justify;\"&gt;&lt;img style=\"fl...</td>\n",
       "    </tr>\n",
       "    <tr>\n",
       "      <th>1999</th>\n",
       "      <td>18531</td>\n",
       "      <td>18 июля в стране отмечается День металлурга</td>\n",
       "      <td>&lt;p style=\"text-align: justify;\"&gt;&lt;img style=\"fl...</td>\n",
       "      <td>&lt;p style=\"text-align: justify;\"&gt;&lt;img style=\"fl...</td>\n",
       "    </tr>\n",
       "  </tbody>\n",
       "</table>\n",
       "<p>2000 rows × 4 columns</p>\n",
       "</div>"
      ],
      "text/plain": [
       "         ID                                           Headline  \\\n",
       "0     32652  В СГТУ пройдет конференция по современным биои...   \n",
       "1     32651    Продолжается набор слушателей по программам ДПО   \n",
       "2     32650  Студент АМФ - серебряный призер Чемпионата Рос...   \n",
       "3     32643           Сегодня - День Государственного флага РФ   \n",
       "4     58784  Кафедра рекламы и компьютерного дизайна провод...   \n",
       "...     ...                                                ...   \n",
       "1995  18527         Профессор СГТУ - победитель конкурса РФФИ    \n",
       "1996  18528        В санатории ?Чайка? начинается вторая смена   \n",
       "1997  18529      Юбилейный выпуск переводчиков получил дипломы   \n",
       "1998  18530  В Волгограде прошла конференция в рамках проек...   \n",
       "1999  18531        18 июля в стране отмечается День металлурга   \n",
       "\n",
       "                                                   Body  \\\n",
       "0     <div id=\"content-content\">\\n<div id=\"node-2692...   \n",
       "1     <p style=\"text-align: justify;\"><img style=\"fl...   \n",
       "2     <p style=\"text-align: justify;\"><img style=\"fl...   \n",
       "3     <p style=\"text-align: justify;\"><img style=\"fl...   \n",
       "4     \\r\\n<div style=\"text-align: justify;\">Вниманию...   \n",
       "...                                                 ...   \n",
       "1995  <p style=\"text-align: justify;\"><img style=\"fl...   \n",
       "1996  <p style=\"text-align: justify;\"><img style=\"fl...   \n",
       "1997  <p style=\"text-align: justify;\"><img style=\"fl...   \n",
       "1998  <p style=\"text-align: justify;\"><img style=\"fl...   \n",
       "1999  <p style=\"text-align: justify;\"><img style=\"fl...   \n",
       "\n",
       "                                                    new  \n",
       "0     < id=\"content-content\">\\n< id=\"node-26925\" cla...  \n",
       "1     <p style=\"text-align: justify;\"><img style=\"fl...  \n",
       "2     <p style=\"text-align: justify;\"><img style=\"fl...  \n",
       "3     <p style=\"text-align: justify;\"><img style=\"fl...  \n",
       "4     \\r\\n< style=\"text-align: justify;\">Вниманию ст...  \n",
       "...                                                 ...  \n",
       "1995  <p style=\"text-align: justify;\"><img style=\"fl...  \n",
       "1996  <p style=\"text-align: justify;\"><img style=\"fl...  \n",
       "1997  <p style=\"text-align: justify;\"><img style=\"fl...  \n",
       "1998  <p style=\"text-align: justify;\"><img style=\"fl...  \n",
       "1999  <p style=\"text-align: justify;\"><img style=\"fl...  \n",
       "\n",
       "[2000 rows x 4 columns]"
      ]
     },
     "execution_count": 77,
     "metadata": {},
     "output_type": "execute_result"
    }
   ],
   "source": [
    "excel_data_df['new'] = excel_data_df['Body'].str.replace(pat, '')\n",
    "\n",
    "excel_data_df"
   ]
  },
  {
   "cell_type": "markdown",
   "metadata": {},
   "source": [
    "#### Lemmatize the text"
   ]
  },
  {
   "cell_type": "code",
   "execution_count": 50,
   "metadata": {},
   "outputs": [
    {
     "ename": "NameError",
     "evalue": "name 'text' is not defined",
     "output_type": "error",
     "traceback": [
      "\u001b[1;31m---------------------------------------------------------------------------\u001b[0m",
      "\u001b[1;31mNameError\u001b[0m                                 Traceback (most recent call last)",
      "\u001b[1;32m<ipython-input-50-1bad842a5c61>\u001b[0m in \u001b[0;36m<module>\u001b[1;34m\u001b[0m\n\u001b[0;32m      1\u001b[0m \u001b[1;32mimport\u001b[0m \u001b[0mstring\u001b[0m\u001b[1;33m\u001b[0m\u001b[1;33m\u001b[0m\u001b[0m\n\u001b[0;32m      2\u001b[0m \u001b[1;33m\u001b[0m\u001b[0m\n\u001b[1;32m----> 3\u001b[1;33m \u001b[0mtext_tokens\u001b[0m \u001b[1;33m=\u001b[0m \u001b[0mword_tokenize\u001b[0m\u001b[1;33m(\u001b[0m\u001b[0mtext\u001b[0m\u001b[1;33m)\u001b[0m   \u001b[1;31m# text_tokens представляет собой список слов (токенов)\u001b[0m\u001b[1;33m\u001b[0m\u001b[1;33m\u001b[0m\u001b[0m\n\u001b[0m\u001b[0;32m      4\u001b[0m \u001b[0mprint\u001b[0m\u001b[1;33m(\u001b[0m\u001b[0mtext_tokens\u001b[0m\u001b[1;33m,\u001b[0m \u001b[0mtype\u001b[0m\u001b[1;33m(\u001b[0m\u001b[0mtext_tokens\u001b[0m\u001b[1;33m)\u001b[0m\u001b[1;33m,\u001b[0m \u001b[0mlen\u001b[0m\u001b[1;33m(\u001b[0m\u001b[0mtext_tokens\u001b[0m\u001b[1;33m)\u001b[0m\u001b[1;33m)\u001b[0m\u001b[1;33m\u001b[0m\u001b[1;33m\u001b[0m\u001b[0m\n\u001b[0;32m      5\u001b[0m \u001b[1;33m\u001b[0m\u001b[0m\n",
      "\u001b[1;31mNameError\u001b[0m: name 'text' is not defined"
     ]
    }
   ],
   "source": [
    "import nltk\n",
    "from nltk import word_tokenize\n",
    "from nltk.corpus import stopwords\n",
    "from nltk.probability import FreqDist\n",
    "\n",
    "# Набор специальных символов, которые будут удалены из текста\n",
    "spec_chars = string.punctuation + '\\n\\xa0«»\\t—…'  \n",
    "\n",
    "# text_tokens представляет собой список слов (токенов)\n",
    "text_tokens = word_tokenize(text)   \n",
    "print(text_tokens, type(text_tokens), len(text_tokens))\n",
    "\n",
    "# Для применения инструментов частотного анализа библиотеки NLTK необходимо список токенов преобразовать к классу Text\n",
    "text = nltk.Text(text_tokens)\n",
    "print(type(text))\n",
    "\n",
    "# Получим список стоп-слов для русского языка\n",
    "russian_stopwords = stopwords.words(\"russian\")  \n",
    "russian_stopwords.extend(['это', 'и', 'нем'])\n",
    "\n",
    "text_tokens = [token.strip() for token in text_tokens if token not in russian_stopwords]\n",
    "print(text_tokens, type(text_tokens), len(text_tokens))\n",
    "\n",
    "bag = list()\n",
    "\n",
    "for text_token in text_tokens:\n",
    "    p = morph.parse(text_token)[0]\n",
    "    bag.append(p.normal_form)\n",
    "print(bag)"
   ]
  },
  {
   "cell_type": "code",
   "execution_count": null,
   "metadata": {},
   "outputs": [],
   "source": []
  },
  {
   "cell_type": "code",
   "execution_count": null,
   "metadata": {},
   "outputs": [],
   "source": []
  },
  {
   "cell_type": "code",
   "execution_count": null,
   "metadata": {},
   "outputs": [],
   "source": []
  },
  {
   "cell_type": "markdown",
   "metadata": {},
   "source": [
    "## K-means"
   ]
  },
  {
   "cell_type": "code",
   "execution_count": 51,
   "metadata": {},
   "outputs": [
    {
     "data": {
      "text/plain": [
       "KMeans(n_clusters=3)"
      ]
     },
     "execution_count": 51,
     "metadata": {},
     "output_type": "execute_result"
    }
   ],
   "source": [
    "from sklearn.datasets import make_blobs\n",
    "from sklearn.cluster import KMeans\n",
    "\n",
    "# генерируем синтетические двумерные данные\n",
    "X, y = make_blobs(random_state=1)\n",
    "\n",
    "# строим модель кластеризации\n",
    "kmeans = KMeans(n_clusters=3)\n",
    "kmeans.fit(X)"
   ]
  },
  {
   "cell_type": "markdown",
   "metadata": {},
   "source": [
    "## KD-trees"
   ]
  },
  {
   "cell_type": "markdown",
   "metadata": {},
   "source": [
    "## LSH"
   ]
  },
  {
   "cell_type": "code",
   "execution_count": null,
   "metadata": {},
   "outputs": [],
   "source": []
  }
 ],
 "metadata": {
  "kernelspec": {
   "display_name": "Python 3",
   "language": "python",
   "name": "python3"
  },
  "language_info": {
   "codemirror_mode": {
    "name": "ipython",
    "version": 3
   },
   "file_extension": ".py",
   "mimetype": "text/x-python",
   "name": "python",
   "nbconvert_exporter": "python",
   "pygments_lexer": "ipython3",
   "version": "3.8.5"
  }
 },
 "nbformat": 4,
 "nbformat_minor": 4
}
