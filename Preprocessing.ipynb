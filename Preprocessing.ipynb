{
 "cells": [
  {
   "cell_type": "markdown",
   "metadata": {},
   "source": [
    "# Excel file Preprocessing"
   ]
  },
  {
   "cell_type": "markdown",
   "metadata": {},
   "source": [
    "### Import Dataset"
   ]
  },
  {
   "cell_type": "code",
   "execution_count": 1,
   "metadata": {},
   "outputs": [
    {
     "data": {
      "text/plain": [
       "pandas.core.frame.DataFrame"
      ]
     },
     "execution_count": 1,
     "metadata": {},
     "output_type": "execute_result"
    }
   ],
   "source": [
    "import pandas as pd\n",
    "\n",
    "df = pd.read_excel('corpus.xlsx')\n",
    "type(df)"
   ]
  },
  {
   "cell_type": "code",
   "execution_count": 2,
   "metadata": {},
   "outputs": [
    {
     "data": {
      "text/plain": [
       "(2000, 3)"
      ]
     },
     "execution_count": 2,
     "metadata": {},
     "output_type": "execute_result"
    }
   ],
   "source": [
    "df.shape"
   ]
  },
  {
   "cell_type": "code",
   "execution_count": 3,
   "metadata": {
    "scrolled": false
   },
   "outputs": [
    {
     "data": {
      "text/html": [
       "<div>\n",
       "<style scoped>\n",
       "    .dataframe tbody tr th:only-of-type {\n",
       "        vertical-align: middle;\n",
       "    }\n",
       "\n",
       "    .dataframe tbody tr th {\n",
       "        vertical-align: top;\n",
       "    }\n",
       "\n",
       "    .dataframe thead th {\n",
       "        text-align: right;\n",
       "    }\n",
       "</style>\n",
       "<table border=\"1\" class=\"dataframe\">\n",
       "  <thead>\n",
       "    <tr style=\"text-align: right;\">\n",
       "      <th></th>\n",
       "      <th>ID</th>\n",
       "      <th>Headline</th>\n",
       "      <th>Body</th>\n",
       "    </tr>\n",
       "  </thead>\n",
       "  <tbody>\n",
       "    <tr>\n",
       "      <th>0</th>\n",
       "      <td>32652</td>\n",
       "      <td>В СГТУ пройдет конференция по современным биои...</td>\n",
       "      <td>&lt;div id=\"content-content\"&gt;\\n&lt;div id=\"node-2692...</td>\n",
       "    </tr>\n",
       "    <tr>\n",
       "      <th>1</th>\n",
       "      <td>32651</td>\n",
       "      <td>Продолжается набор слушателей по программам ДПО</td>\n",
       "      <td>&lt;p style=\"text-align: justify;\"&gt;&lt;img style=\"fl...</td>\n",
       "    </tr>\n",
       "    <tr>\n",
       "      <th>2</th>\n",
       "      <td>32650</td>\n",
       "      <td>Студент АМФ - серебряный призер Чемпионата Рос...</td>\n",
       "      <td>&lt;p style=\"text-align: justify;\"&gt;&lt;img style=\"fl...</td>\n",
       "    </tr>\n",
       "    <tr>\n",
       "      <th>3</th>\n",
       "      <td>32643</td>\n",
       "      <td>Сегодня - День Государственного флага РФ</td>\n",
       "      <td>&lt;p style=\"text-align: justify;\"&gt;&lt;img style=\"fl...</td>\n",
       "    </tr>\n",
       "    <tr>\n",
       "      <th>4</th>\n",
       "      <td>58784</td>\n",
       "      <td>Кафедра рекламы и компьютерного дизайна провод...</td>\n",
       "      <td>_x000D_\\n&lt;div style=\"text-align: justify;\"&gt;Вни...</td>\n",
       "    </tr>\n",
       "  </tbody>\n",
       "</table>\n",
       "</div>"
      ],
      "text/plain": [
       "      ID                                           Headline  \\\n",
       "0  32652  В СГТУ пройдет конференция по современным биои...   \n",
       "1  32651    Продолжается набор слушателей по программам ДПО   \n",
       "2  32650  Студент АМФ - серебряный призер Чемпионата Рос...   \n",
       "3  32643           Сегодня - День Государственного флага РФ   \n",
       "4  58784  Кафедра рекламы и компьютерного дизайна провод...   \n",
       "\n",
       "                                                Body  \n",
       "0  <div id=\"content-content\">\\n<div id=\"node-2692...  \n",
       "1  <p style=\"text-align: justify;\"><img style=\"fl...  \n",
       "2  <p style=\"text-align: justify;\"><img style=\"fl...  \n",
       "3  <p style=\"text-align: justify;\"><img style=\"fl...  \n",
       "4  _x000D_\\n<div style=\"text-align: justify;\">Вни...  "
      ]
     },
     "execution_count": 3,
     "metadata": {},
     "output_type": "execute_result"
    }
   ],
   "source": [
    "df.head()"
   ]
  },
  {
   "cell_type": "markdown",
   "metadata": {},
   "source": [
    "Copy column 'Body' to column 'new'"
   ]
  },
  {
   "cell_type": "code",
   "execution_count": 4,
   "metadata": {
    "scrolled": true
   },
   "outputs": [
    {
     "data": {
      "text/html": [
       "<div>\n",
       "<style scoped>\n",
       "    .dataframe tbody tr th:only-of-type {\n",
       "        vertical-align: middle;\n",
       "    }\n",
       "\n",
       "    .dataframe tbody tr th {\n",
       "        vertical-align: top;\n",
       "    }\n",
       "\n",
       "    .dataframe thead th {\n",
       "        text-align: right;\n",
       "    }\n",
       "</style>\n",
       "<table border=\"1\" class=\"dataframe\">\n",
       "  <thead>\n",
       "    <tr style=\"text-align: right;\">\n",
       "      <th></th>\n",
       "      <th>ID</th>\n",
       "      <th>Headline</th>\n",
       "      <th>Body</th>\n",
       "      <th>new</th>\n",
       "    </tr>\n",
       "  </thead>\n",
       "  <tbody>\n",
       "    <tr>\n",
       "      <th>0</th>\n",
       "      <td>32652</td>\n",
       "      <td>В СГТУ пройдет конференция по современным биои...</td>\n",
       "      <td>&lt;div id=\"content-content\"&gt;\\n&lt;div id=\"node-2692...</td>\n",
       "      <td>&lt;div id=\"content-content\"&gt;\\n&lt;div id=\"node-2692...</td>\n",
       "    </tr>\n",
       "    <tr>\n",
       "      <th>1</th>\n",
       "      <td>32651</td>\n",
       "      <td>Продолжается набор слушателей по программам ДПО</td>\n",
       "      <td>&lt;p style=\"text-align: justify;\"&gt;&lt;img style=\"fl...</td>\n",
       "      <td>&lt;p style=\"text-align: justify;\"&gt;&lt;img style=\"fl...</td>\n",
       "    </tr>\n",
       "    <tr>\n",
       "      <th>2</th>\n",
       "      <td>32650</td>\n",
       "      <td>Студент АМФ - серебряный призер Чемпионата Рос...</td>\n",
       "      <td>&lt;p style=\"text-align: justify;\"&gt;&lt;img style=\"fl...</td>\n",
       "      <td>&lt;p style=\"text-align: justify;\"&gt;&lt;img style=\"fl...</td>\n",
       "    </tr>\n",
       "    <tr>\n",
       "      <th>3</th>\n",
       "      <td>32643</td>\n",
       "      <td>Сегодня - День Государственного флага РФ</td>\n",
       "      <td>&lt;p style=\"text-align: justify;\"&gt;&lt;img style=\"fl...</td>\n",
       "      <td>&lt;p style=\"text-align: justify;\"&gt;&lt;img style=\"fl...</td>\n",
       "    </tr>\n",
       "    <tr>\n",
       "      <th>4</th>\n",
       "      <td>58784</td>\n",
       "      <td>Кафедра рекламы и компьютерного дизайна провод...</td>\n",
       "      <td>_x000D_\\n&lt;div style=\"text-align: justify;\"&gt;Вни...</td>\n",
       "      <td>_x000D_\\n&lt;div style=\"text-align: justify;\"&gt;Вни...</td>\n",
       "    </tr>\n",
       "  </tbody>\n",
       "</table>\n",
       "</div>"
      ],
      "text/plain": [
       "      ID                                           Headline  \\\n",
       "0  32652  В СГТУ пройдет конференция по современным биои...   \n",
       "1  32651    Продолжается набор слушателей по программам ДПО   \n",
       "2  32650  Студент АМФ - серебряный призер Чемпионата Рос...   \n",
       "3  32643           Сегодня - День Государственного флага РФ   \n",
       "4  58784  Кафедра рекламы и компьютерного дизайна провод...   \n",
       "\n",
       "                                                Body  \\\n",
       "0  <div id=\"content-content\">\\n<div id=\"node-2692...   \n",
       "1  <p style=\"text-align: justify;\"><img style=\"fl...   \n",
       "2  <p style=\"text-align: justify;\"><img style=\"fl...   \n",
       "3  <p style=\"text-align: justify;\"><img style=\"fl...   \n",
       "4  _x000D_\\n<div style=\"text-align: justify;\">Вни...   \n",
       "\n",
       "                                                 new  \n",
       "0  <div id=\"content-content\">\\n<div id=\"node-2692...  \n",
       "1  <p style=\"text-align: justify;\"><img style=\"fl...  \n",
       "2  <p style=\"text-align: justify;\"><img style=\"fl...  \n",
       "3  <p style=\"text-align: justify;\"><img style=\"fl...  \n",
       "4  _x000D_\\n<div style=\"text-align: justify;\">Вни...  "
      ]
     },
     "execution_count": 4,
     "metadata": {},
     "output_type": "execute_result"
    }
   ],
   "source": [
    "df['new'] = df['Body']\n",
    "df.head()"
   ]
  },
  {
   "cell_type": "markdown",
   "metadata": {},
   "source": [
    "### Primary processing"
   ]
  },
  {
   "cell_type": "markdown",
   "metadata": {},
   "source": [
    "Приведение к нижнему регистру, применение регулярных выражений"
   ]
  },
  {
   "cell_type": "code",
   "execution_count": 5,
   "metadata": {},
   "outputs": [],
   "source": [
    "import re\n",
    "\n",
    "df.loc[:,\"new\"] = df.new.apply(lambda x : str.lower(x))                     # нижний регистр\n",
    "df.loc[:,\"new\"] = df.new.apply(lambda x : \" \".join(re.findall('[\\w]+',x)))  # без пунктуации\n",
    "df.loc[:,\"new\"] = df.new.apply(lambda x : \" \".join(re.findall('[\\D]+',x)))  # без чисел\n",
    "df.loc[:,\"new\"] = df.new.apply(lambda x : \" \".join(re.findall('[а-я]+',x))) # без английских символов\n",
    "\n",
    "#df.loc[:,\"new\"] = df.new.apply(lambda x : \" \".join(re.findall(r'\\b[а-я]+',x))) # если пробовать одной строкой"
   ]
  },
  {
   "cell_type": "code",
   "execution_count": 6,
   "metadata": {
    "scrolled": false
   },
   "outputs": [
    {
     "data": {
      "text/html": [
       "<div>\n",
       "<style scoped>\n",
       "    .dataframe tbody tr th:only-of-type {\n",
       "        vertical-align: middle;\n",
       "    }\n",
       "\n",
       "    .dataframe tbody tr th {\n",
       "        vertical-align: top;\n",
       "    }\n",
       "\n",
       "    .dataframe thead th {\n",
       "        text-align: right;\n",
       "    }\n",
       "</style>\n",
       "<table border=\"1\" class=\"dataframe\">\n",
       "  <thead>\n",
       "    <tr style=\"text-align: right;\">\n",
       "      <th></th>\n",
       "      <th>ID</th>\n",
       "      <th>Headline</th>\n",
       "      <th>Body</th>\n",
       "      <th>new</th>\n",
       "    </tr>\n",
       "  </thead>\n",
       "  <tbody>\n",
       "    <tr>\n",
       "      <th>0</th>\n",
       "      <td>32652</td>\n",
       "      <td>В СГТУ пройдет конференция по современным биои...</td>\n",
       "      <td>&lt;div id=\"content-content\"&gt;\\n&lt;div id=\"node-2692...</td>\n",
       "      <td>[октября, г, на, базе, каф, бма, фтф, и, фмтм,...</td>\n",
       "    </tr>\n",
       "    <tr>\n",
       "      <th>1</th>\n",
       "      <td>32651</td>\n",
       "      <td>Продолжается набор слушателей по программам ДПО</td>\n",
       "      <td>&lt;p style=\"text-align: justify;\"&gt;&lt;img style=\"fl...</td>\n",
       "      <td>[в, саратовском, государственном, техническом,...</td>\n",
       "    </tr>\n",
       "    <tr>\n",
       "      <th>2</th>\n",
       "      <td>32650</td>\n",
       "      <td>Студент АМФ - серебряный призер Чемпионата Рос...</td>\n",
       "      <td>&lt;p style=\"text-align: justify;\"&gt;&lt;img style=\"fl...</td>\n",
       "      <td>[августа, года, в, ставрополе, состоялся, этап...</td>\n",
       "    </tr>\n",
       "    <tr>\n",
       "      <th>3</th>\n",
       "      <td>32643</td>\n",
       "      <td>Сегодня - День Государственного флага РФ</td>\n",
       "      <td>&lt;p style=\"text-align: justify;\"&gt;&lt;img style=\"fl...</td>\n",
       "      <td>[ежегодно, августа, в, россии, отмечается, ден...</td>\n",
       "    </tr>\n",
       "    <tr>\n",
       "      <th>4</th>\n",
       "      <td>58784</td>\n",
       "      <td>Кафедра рекламы и компьютерного дизайна провод...</td>\n",
       "      <td>_x000D_\\n&lt;div style=\"text-align: justify;\"&gt;Вни...</td>\n",
       "      <td>[вниманию, студентов, и, кураторов, мфпит, мар...</td>\n",
       "    </tr>\n",
       "  </tbody>\n",
       "</table>\n",
       "</div>"
      ],
      "text/plain": [
       "      ID                                           Headline  \\\n",
       "0  32652  В СГТУ пройдет конференция по современным биои...   \n",
       "1  32651    Продолжается набор слушателей по программам ДПО   \n",
       "2  32650  Студент АМФ - серебряный призер Чемпионата Рос...   \n",
       "3  32643           Сегодня - День Государственного флага РФ   \n",
       "4  58784  Кафедра рекламы и компьютерного дизайна провод...   \n",
       "\n",
       "                                                Body  \\\n",
       "0  <div id=\"content-content\">\\n<div id=\"node-2692...   \n",
       "1  <p style=\"text-align: justify;\"><img style=\"fl...   \n",
       "2  <p style=\"text-align: justify;\"><img style=\"fl...   \n",
       "3  <p style=\"text-align: justify;\"><img style=\"fl...   \n",
       "4  _x000D_\\n<div style=\"text-align: justify;\">Вни...   \n",
       "\n",
       "                                                 new  \n",
       "0  [октября, г, на, базе, каф, бма, фтф, и, фмтм,...  \n",
       "1  [в, саратовском, государственном, техническом,...  \n",
       "2  [августа, года, в, ставрополе, состоялся, этап...  \n",
       "3  [ежегодно, августа, в, россии, отмечается, ден...  \n",
       "4  [вниманию, студентов, и, кураторов, мфпит, мар...  "
      ]
     },
     "execution_count": 6,
     "metadata": {},
     "output_type": "execute_result"
    }
   ],
   "source": [
    "df.loc[:,\"new\"] = df.new.apply(lambda x : x.split(' ')) # создание списка списков слов\n",
    "df.head()"
   ]
  },
  {
   "cell_type": "markdown",
   "metadata": {},
   "source": [
    "Очистка слов длиной меньше 3"
   ]
  },
  {
   "cell_type": "code",
   "execution_count": 7,
   "metadata": {},
   "outputs": [
    {
     "data": {
      "text/html": [
       "<div>\n",
       "<style scoped>\n",
       "    .dataframe tbody tr th:only-of-type {\n",
       "        vertical-align: middle;\n",
       "    }\n",
       "\n",
       "    .dataframe tbody tr th {\n",
       "        vertical-align: top;\n",
       "    }\n",
       "\n",
       "    .dataframe thead th {\n",
       "        text-align: right;\n",
       "    }\n",
       "</style>\n",
       "<table border=\"1\" class=\"dataframe\">\n",
       "  <thead>\n",
       "    <tr style=\"text-align: right;\">\n",
       "      <th></th>\n",
       "      <th>ID</th>\n",
       "      <th>Headline</th>\n",
       "      <th>Body</th>\n",
       "      <th>new</th>\n",
       "    </tr>\n",
       "  </thead>\n",
       "  <tbody>\n",
       "    <tr>\n",
       "      <th>0</th>\n",
       "      <td>32652</td>\n",
       "      <td>В СГТУ пройдет конференция по современным биои...</td>\n",
       "      <td>&lt;div id=\"content-content\"&gt;\\n&lt;div id=\"node-2692...</td>\n",
       "      <td>[октября, базе, каф, бма, фтф, фмтм, инэтм, пр...</td>\n",
       "    </tr>\n",
       "    <tr>\n",
       "      <th>1</th>\n",
       "      <td>32651</td>\n",
       "      <td>Продолжается набор слушателей по программам ДПО</td>\n",
       "      <td>&lt;p style=\"text-align: justify;\"&gt;&lt;img style=\"fl...</td>\n",
       "      <td>[саратовском, государственном, техническом, ун...</td>\n",
       "    </tr>\n",
       "    <tr>\n",
       "      <th>2</th>\n",
       "      <td>32650</td>\n",
       "      <td>Студент АМФ - серебряный призер Чемпионата Рос...</td>\n",
       "      <td>&lt;p style=\"text-align: justify;\"&gt;&lt;img style=\"fl...</td>\n",
       "      <td>[августа, года, ставрополе, состоялся, этап, ч...</td>\n",
       "    </tr>\n",
       "    <tr>\n",
       "      <th>3</th>\n",
       "      <td>32643</td>\n",
       "      <td>Сегодня - День Государственного флага РФ</td>\n",
       "      <td>&lt;p style=\"text-align: justify;\"&gt;&lt;img style=\"fl...</td>\n",
       "      <td>[ежегодно, августа, россии, отмечается, день, ...</td>\n",
       "    </tr>\n",
       "    <tr>\n",
       "      <th>4</th>\n",
       "      <td>58784</td>\n",
       "      <td>Кафедра рекламы и компьютерного дизайна провод...</td>\n",
       "      <td>_x000D_\\n&lt;div style=\"text-align: justify;\"&gt;Вни...</td>\n",
       "      <td>[вниманию, студентов, кураторов, мфпит, марта,...</td>\n",
       "    </tr>\n",
       "  </tbody>\n",
       "</table>\n",
       "</div>"
      ],
      "text/plain": [
       "      ID                                           Headline  \\\n",
       "0  32652  В СГТУ пройдет конференция по современным биои...   \n",
       "1  32651    Продолжается набор слушателей по программам ДПО   \n",
       "2  32650  Студент АМФ - серебряный призер Чемпионата Рос...   \n",
       "3  32643           Сегодня - День Государственного флага РФ   \n",
       "4  58784  Кафедра рекламы и компьютерного дизайна провод...   \n",
       "\n",
       "                                                Body  \\\n",
       "0  <div id=\"content-content\">\\n<div id=\"node-2692...   \n",
       "1  <p style=\"text-align: justify;\"><img style=\"fl...   \n",
       "2  <p style=\"text-align: justify;\"><img style=\"fl...   \n",
       "3  <p style=\"text-align: justify;\"><img style=\"fl...   \n",
       "4  _x000D_\\n<div style=\"text-align: justify;\">Вни...   \n",
       "\n",
       "                                                 new  \n",
       "0  [октября, базе, каф, бма, фтф, фмтм, инэтм, пр...  \n",
       "1  [саратовском, государственном, техническом, ун...  \n",
       "2  [августа, года, ставрополе, состоялся, этап, ч...  \n",
       "3  [ежегодно, августа, россии, отмечается, день, ...  \n",
       "4  [вниманию, студентов, кураторов, мфпит, марта,...  "
      ]
     },
     "execution_count": 7,
     "metadata": {},
     "output_type": "execute_result"
    }
   ],
   "source": [
    "new = df['new'].values.tolist()\n",
    "\n",
    "edited_lists = []\n",
    "for lists in new:\n",
    "    edited_lists.append(list(filter(lambda x: len(x) > 2, lists)))\n",
    "    \n",
    "df['new'] = edited_lists\n",
    "\n",
    "new.clear()\n",
    "edited_lists.clear()\n",
    "\n",
    "df.head()"
   ]
  },
  {
   "cell_type": "markdown",
   "metadata": {},
   "source": [
    "### Stop-Words"
   ]
  },
  {
   "cell_type": "code",
   "execution_count": 30,
   "metadata": {},
   "outputs": [],
   "source": [
    "custom_stop = ['что', 'нас', 'как', 'все', 'она', 'так', \n",
    "               'его', 'только', 'мне', 'было', 'вот', 'меня', 'еще', 'нет',\n",
    "               'теперь', 'когда', 'даже', 'вдруг', 'ему', \n",
    "               'если', 'уже', 'или', 'быть', 'был', 'него', \n",
    "               'вас', 'нибудь', 'опять', 'вам', 'ведь', \n",
    "               'там', 'потом', 'себя', 'ничего', 'может', 'они', \n",
    "               'тут', 'где', 'есть', 'надо', 'ней', 'для', 'тебя', \n",
    "               'чем', 'была', 'сам', 'чтоб', 'без', 'будто', 'чего', \n",
    "               'раз', 'тоже', 'себе', 'под', 'будет', 'тогда', 'кто', \n",
    "               'этот', 'того', 'потому', 'этого', 'какой', 'совсем', \n",
    "               'ним', 'здесь', 'этом', 'один', 'почти', 'мой', 'тем', \n",
    "               'чтобы', 'нее', 'сейчас', 'были', 'куда', 'зачем', 'всех', \n",
    "               'никогда', 'можно', 'при', 'наконец', 'два', 'другой', \n",
    "               'хоть', 'после', 'над', 'больше', 'тот', 'через', 'эти', \n",
    "               'про', 'всего', 'них', 'какая', 'много', 'разве', 'три', 'эту', \n",
    "               'моя', 'впрочем', 'хорошо', 'свою', 'этой', 'перед', 'иногда', \n",
    "               'лучше', 'чуть', 'том', 'нельзя', 'такой', 'более', \n",
    "               'всегда', 'конечно', 'всю', 'между']"
   ]
  },
  {
   "cell_type": "markdown",
   "metadata": {},
   "source": [
    "### Lemmatization"
   ]
  },
  {
   "cell_type": "code",
   "execution_count": 31,
   "metadata": {
    "scrolled": true
   },
   "outputs": [
    {
     "data": {
      "application/vnd.jupyter.widget-view+json": {
       "model_id": "f42db490daf941e6a057a42a61a47978",
       "version_major": 2,
       "version_minor": 0
      },
      "text/plain": [
       "  0%|          | 0/1000 [00:00<?, ?it/s]"
      ]
     },
     "metadata": {},
     "output_type": "display_data"
    },
    {
     "ename": "KeyboardInterrupt",
     "evalue": "",
     "output_type": "error",
     "traceback": [
      "\u001b[1;31m---------------------------------------------------------------------------\u001b[0m",
      "\u001b[1;31mKeyboardInterrupt\u001b[0m                         Traceback (most recent call last)",
      "\u001b[1;32m<ipython-input-31-0340ef58124d>\u001b[0m in \u001b[0;36m<module>\u001b[1;34m\u001b[0m\n\u001b[0;32m     13\u001b[0m             \u001b[0medited_lists\u001b[0m\u001b[1;33m.\u001b[0m\u001b[0mappend\u001b[0m\u001b[1;33m(\u001b[0m\u001b[0mw\u001b[0m\u001b[1;33m.\u001b[0m\u001b[0mnormal_form\u001b[0m\u001b[1;33m)\u001b[0m\u001b[1;33m\u001b[0m\u001b[1;33m\u001b[0m\u001b[0m\n\u001b[0;32m     14\u001b[0m \u001b[1;33m\u001b[0m\u001b[0m\n\u001b[1;32m---> 15\u001b[1;33m \u001b[1;33m[\u001b[0m\u001b[0mlemmatize\u001b[0m\u001b[1;33m(\u001b[0m\u001b[1;33m)\u001b[0m \u001b[1;32mfor\u001b[0m \u001b[0mi\u001b[0m \u001b[1;32min\u001b[0m \u001b[0mtqdm\u001b[0m\u001b[1;33m(\u001b[0m\u001b[0mrange\u001b[0m\u001b[1;33m(\u001b[0m\u001b[1;36m1000\u001b[0m\u001b[1;33m)\u001b[0m\u001b[1;33m)\u001b[0m\u001b[1;33m]\u001b[0m\u001b[1;33m\u001b[0m\u001b[1;33m\u001b[0m\u001b[0m\n\u001b[0m\u001b[0;32m     16\u001b[0m \u001b[1;33m\u001b[0m\u001b[0m\n\u001b[0;32m     17\u001b[0m \u001b[0mdf\u001b[0m\u001b[1;33m[\u001b[0m\u001b[1;34m'new'\u001b[0m\u001b[1;33m]\u001b[0m \u001b[1;33m=\u001b[0m \u001b[0medited_lists\u001b[0m\u001b[1;33m\u001b[0m\u001b[1;33m\u001b[0m\u001b[0m\n",
      "\u001b[1;32m<ipython-input-31-0340ef58124d>\u001b[0m in \u001b[0;36m<listcomp>\u001b[1;34m(.0)\u001b[0m\n\u001b[0;32m     13\u001b[0m             \u001b[0medited_lists\u001b[0m\u001b[1;33m.\u001b[0m\u001b[0mappend\u001b[0m\u001b[1;33m(\u001b[0m\u001b[0mw\u001b[0m\u001b[1;33m.\u001b[0m\u001b[0mnormal_form\u001b[0m\u001b[1;33m)\u001b[0m\u001b[1;33m\u001b[0m\u001b[1;33m\u001b[0m\u001b[0m\n\u001b[0;32m     14\u001b[0m \u001b[1;33m\u001b[0m\u001b[0m\n\u001b[1;32m---> 15\u001b[1;33m \u001b[1;33m[\u001b[0m\u001b[0mlemmatize\u001b[0m\u001b[1;33m(\u001b[0m\u001b[1;33m)\u001b[0m \u001b[1;32mfor\u001b[0m \u001b[0mi\u001b[0m \u001b[1;32min\u001b[0m \u001b[0mtqdm\u001b[0m\u001b[1;33m(\u001b[0m\u001b[0mrange\u001b[0m\u001b[1;33m(\u001b[0m\u001b[1;36m1000\u001b[0m\u001b[1;33m)\u001b[0m\u001b[1;33m)\u001b[0m\u001b[1;33m]\u001b[0m\u001b[1;33m\u001b[0m\u001b[1;33m\u001b[0m\u001b[0m\n\u001b[0m\u001b[0;32m     16\u001b[0m \u001b[1;33m\u001b[0m\u001b[0m\n\u001b[0;32m     17\u001b[0m \u001b[0mdf\u001b[0m\u001b[1;33m[\u001b[0m\u001b[1;34m'new'\u001b[0m\u001b[1;33m]\u001b[0m \u001b[1;33m=\u001b[0m \u001b[0medited_lists\u001b[0m\u001b[1;33m\u001b[0m\u001b[1;33m\u001b[0m\u001b[0m\n",
      "\u001b[1;32m<ipython-input-31-0340ef58124d>\u001b[0m in \u001b[0;36mlemmatize\u001b[1;34m()\u001b[0m\n\u001b[0;32m     10\u001b[0m     \u001b[1;32mfor\u001b[0m \u001b[0mlists\u001b[0m \u001b[1;32min\u001b[0m \u001b[0mnew\u001b[0m\u001b[1;33m:\u001b[0m\u001b[1;33m\u001b[0m\u001b[1;33m\u001b[0m\u001b[0m\n\u001b[0;32m     11\u001b[0m         \u001b[1;32mfor\u001b[0m \u001b[0mword\u001b[0m \u001b[1;32min\u001b[0m \u001b[0mlists\u001b[0m\u001b[1;33m:\u001b[0m\u001b[1;33m\u001b[0m\u001b[1;33m\u001b[0m\u001b[0m\n\u001b[1;32m---> 12\u001b[1;33m             \u001b[0mw\u001b[0m \u001b[1;33m=\u001b[0m \u001b[0mmorph\u001b[0m\u001b[1;33m.\u001b[0m\u001b[0mparse\u001b[0m\u001b[1;33m(\u001b[0m\u001b[0mword\u001b[0m\u001b[1;33m)\u001b[0m\u001b[1;33m[\u001b[0m\u001b[1;36m0\u001b[0m\u001b[1;33m]\u001b[0m\u001b[1;33m\u001b[0m\u001b[1;33m\u001b[0m\u001b[0m\n\u001b[0m\u001b[0;32m     13\u001b[0m             \u001b[0medited_lists\u001b[0m\u001b[1;33m.\u001b[0m\u001b[0mappend\u001b[0m\u001b[1;33m(\u001b[0m\u001b[0mw\u001b[0m\u001b[1;33m.\u001b[0m\u001b[0mnormal_form\u001b[0m\u001b[1;33m)\u001b[0m\u001b[1;33m\u001b[0m\u001b[1;33m\u001b[0m\u001b[0m\n\u001b[0;32m     14\u001b[0m \u001b[1;33m\u001b[0m\u001b[0m\n",
      "\u001b[1;32mC:\\ProgramData\\Anaconda3\\lib\\site-packages\\pymorphy2\\analyzer.py\u001b[0m in \u001b[0;36mparse\u001b[1;34m(self, word)\u001b[0m\n\u001b[0;32m    319\u001b[0m \u001b[1;33m\u001b[0m\u001b[0m\n\u001b[0;32m    320\u001b[0m         \u001b[1;32mif\u001b[0m \u001b[0mself\u001b[0m\u001b[1;33m.\u001b[0m\u001b[0mprob_estimator\u001b[0m \u001b[1;32mis\u001b[0m \u001b[1;32mnot\u001b[0m \u001b[1;32mNone\u001b[0m\u001b[1;33m:\u001b[0m\u001b[1;33m\u001b[0m\u001b[1;33m\u001b[0m\u001b[0m\n\u001b[1;32m--> 321\u001b[1;33m             \u001b[0mres\u001b[0m \u001b[1;33m=\u001b[0m \u001b[0mself\u001b[0m\u001b[1;33m.\u001b[0m\u001b[0mprob_estimator\u001b[0m\u001b[1;33m.\u001b[0m\u001b[0mapply_to_parses\u001b[0m\u001b[1;33m(\u001b[0m\u001b[0mword\u001b[0m\u001b[1;33m,\u001b[0m \u001b[0mword_lower\u001b[0m\u001b[1;33m,\u001b[0m \u001b[0mres\u001b[0m\u001b[1;33m)\u001b[0m\u001b[1;33m\u001b[0m\u001b[1;33m\u001b[0m\u001b[0m\n\u001b[0m\u001b[0;32m    322\u001b[0m \u001b[1;33m\u001b[0m\u001b[0m\n\u001b[0;32m    323\u001b[0m         \u001b[1;32mif\u001b[0m \u001b[0mself\u001b[0m\u001b[1;33m.\u001b[0m\u001b[0m_result_type\u001b[0m \u001b[1;32mis\u001b[0m \u001b[1;32mNone\u001b[0m\u001b[1;33m:\u001b[0m\u001b[1;33m\u001b[0m\u001b[1;33m\u001b[0m\u001b[0m\n",
      "\u001b[1;32mC:\\ProgramData\\Anaconda3\\lib\\site-packages\\pymorphy2\\analyzer.py\u001b[0m in \u001b[0;36mapply_to_parses\u001b[1;34m(self, word, word_lower, parses)\u001b[0m\n\u001b[0;32m     75\u001b[0m             \u001b[1;32mreturn\u001b[0m \u001b[0mparses\u001b[0m\u001b[1;33m\u001b[0m\u001b[1;33m\u001b[0m\u001b[0m\n\u001b[0;32m     76\u001b[0m \u001b[1;33m\u001b[0m\u001b[0m\n\u001b[1;32m---> 77\u001b[1;33m         probs = [self.p_t_given_w.prob(word_lower, tag)\n\u001b[0m\u001b[0;32m     78\u001b[0m                 for (word, tag, normal_form, score, methods_stack) in parses]\n\u001b[0;32m     79\u001b[0m \u001b[1;33m\u001b[0m\u001b[0m\n",
      "\u001b[1;32mC:\\ProgramData\\Anaconda3\\lib\\site-packages\\pymorphy2\\analyzer.py\u001b[0m in \u001b[0;36m<listcomp>\u001b[1;34m(.0)\u001b[0m\n\u001b[0;32m     75\u001b[0m             \u001b[1;32mreturn\u001b[0m \u001b[0mparses\u001b[0m\u001b[1;33m\u001b[0m\u001b[1;33m\u001b[0m\u001b[0m\n\u001b[0;32m     76\u001b[0m \u001b[1;33m\u001b[0m\u001b[0m\n\u001b[1;32m---> 77\u001b[1;33m         probs = [self.p_t_given_w.prob(word_lower, tag)\n\u001b[0m\u001b[0;32m     78\u001b[0m                 for (word, tag, normal_form, score, methods_stack) in parses]\n\u001b[0;32m     79\u001b[0m \u001b[1;33m\u001b[0m\u001b[0m\n",
      "\u001b[1;32mC:\\ProgramData\\Anaconda3\\lib\\site-packages\\pymorphy2\\dawg.py\u001b[0m in \u001b[0;36mprob\u001b[1;34m(self, word, tag)\u001b[0m\n\u001b[0;32m     64\u001b[0m     \u001b[1;32mdef\u001b[0m \u001b[0mprob\u001b[0m\u001b[1;33m(\u001b[0m\u001b[0mself\u001b[0m\u001b[1;33m,\u001b[0m \u001b[0mword\u001b[0m\u001b[1;33m,\u001b[0m \u001b[0mtag\u001b[0m\u001b[1;33m)\u001b[0m\u001b[1;33m:\u001b[0m\u001b[1;33m\u001b[0m\u001b[1;33m\u001b[0m\u001b[0m\n\u001b[0;32m     65\u001b[0m         \u001b[0mdawg_key\u001b[0m \u001b[1;33m=\u001b[0m \u001b[1;34m\"%s:%s\"\u001b[0m \u001b[1;33m%\u001b[0m \u001b[1;33m(\u001b[0m\u001b[0mword\u001b[0m\u001b[1;33m,\u001b[0m \u001b[0mtag\u001b[0m\u001b[1;33m)\u001b[0m\u001b[1;33m\u001b[0m\u001b[1;33m\u001b[0m\u001b[0m\n\u001b[1;32m---> 66\u001b[1;33m         \u001b[1;32mreturn\u001b[0m \u001b[0mself\u001b[0m\u001b[1;33m.\u001b[0m\u001b[0mget\u001b[0m\u001b[1;33m(\u001b[0m\u001b[0mdawg_key\u001b[0m\u001b[1;33m,\u001b[0m \u001b[1;36m0\u001b[0m\u001b[1;33m)\u001b[0m \u001b[1;33m/\u001b[0m \u001b[0mself\u001b[0m\u001b[1;33m.\u001b[0m\u001b[0mMULTIPLIER\u001b[0m\u001b[1;33m\u001b[0m\u001b[1;33m\u001b[0m\u001b[0m\n\u001b[0m\u001b[0;32m     67\u001b[0m \u001b[1;33m\u001b[0m\u001b[0m\n\u001b[0;32m     68\u001b[0m \u001b[1;33m\u001b[0m\u001b[0m\n",
      "\u001b[1;32mC:\\ProgramData\\Anaconda3\\lib\\site-packages\\dawg_python\\dawgs.py\u001b[0m in \u001b[0;36mget\u001b[1;34m(self, key, default)\u001b[0m\n\u001b[0;32m    451\u001b[0m         \u001b[1;32mif\u001b[0m \u001b[1;32mnot\u001b[0m \u001b[0misinstance\u001b[0m\u001b[1;33m(\u001b[0m\u001b[0mkey\u001b[0m\u001b[1;33m,\u001b[0m \u001b[0mbytes\u001b[0m\u001b[1;33m)\u001b[0m\u001b[1;33m:\u001b[0m\u001b[1;33m\u001b[0m\u001b[1;33m\u001b[0m\u001b[0m\n\u001b[0;32m    452\u001b[0m             \u001b[0mkey\u001b[0m \u001b[1;33m=\u001b[0m \u001b[0mkey\u001b[0m\u001b[1;33m.\u001b[0m\u001b[0mencode\u001b[0m\u001b[1;33m(\u001b[0m\u001b[1;34m'utf8'\u001b[0m\u001b[1;33m)\u001b[0m\u001b[1;33m\u001b[0m\u001b[1;33m\u001b[0m\u001b[0m\n\u001b[1;32m--> 453\u001b[1;33m         \u001b[0mres\u001b[0m \u001b[1;33m=\u001b[0m \u001b[0mself\u001b[0m\u001b[1;33m.\u001b[0m\u001b[0mb_get_value\u001b[0m\u001b[1;33m(\u001b[0m\u001b[0mkey\u001b[0m\u001b[1;33m)\u001b[0m\u001b[1;33m\u001b[0m\u001b[1;33m\u001b[0m\u001b[0m\n\u001b[0m\u001b[0;32m    454\u001b[0m         \u001b[1;32mif\u001b[0m \u001b[0mres\u001b[0m \u001b[1;33m==\u001b[0m \u001b[0mLOOKUP_ERROR\u001b[0m\u001b[1;33m:\u001b[0m\u001b[1;33m\u001b[0m\u001b[1;33m\u001b[0m\u001b[0m\n\u001b[0;32m    455\u001b[0m             \u001b[1;32mreturn\u001b[0m \u001b[0mdefault\u001b[0m\u001b[1;33m\u001b[0m\u001b[1;33m\u001b[0m\u001b[0m\n",
      "\u001b[1;32mC:\\ProgramData\\Anaconda3\\lib\\site-packages\\dawg_python\\dawgs.py\u001b[0m in \u001b[0;36mb_get_value\u001b[1;34m(self, key)\u001b[0m\n\u001b[0;32m    457\u001b[0m \u001b[1;33m\u001b[0m\u001b[0m\n\u001b[0;32m    458\u001b[0m     \u001b[1;32mdef\u001b[0m \u001b[0mb_get_value\u001b[0m\u001b[1;33m(\u001b[0m\u001b[0mself\u001b[0m\u001b[1;33m,\u001b[0m \u001b[0mkey\u001b[0m\u001b[1;33m)\u001b[0m\u001b[1;33m:\u001b[0m\u001b[1;33m\u001b[0m\u001b[1;33m\u001b[0m\u001b[0m\n\u001b[1;32m--> 459\u001b[1;33m         \u001b[1;32mreturn\u001b[0m \u001b[0mself\u001b[0m\u001b[1;33m.\u001b[0m\u001b[0mdct\u001b[0m\u001b[1;33m.\u001b[0m\u001b[0mfind\u001b[0m\u001b[1;33m(\u001b[0m\u001b[0mkey\u001b[0m\u001b[1;33m)\u001b[0m\u001b[1;33m\u001b[0m\u001b[1;33m\u001b[0m\u001b[0m\n\u001b[0m\u001b[0;32m    460\u001b[0m \u001b[1;33m\u001b[0m\u001b[0m\n\u001b[0;32m    461\u001b[0m \u001b[1;33m\u001b[0m\u001b[0m\n",
      "\u001b[1;32mC:\\ProgramData\\Anaconda3\\lib\\site-packages\\dawg_python\\wrapper.py\u001b[0m in \u001b[0;36mfind\u001b[1;34m(self, key)\u001b[0m\n\u001b[0;32m     42\u001b[0m     \u001b[1;32mdef\u001b[0m \u001b[0mfind\u001b[0m\u001b[1;33m(\u001b[0m\u001b[0mself\u001b[0m\u001b[1;33m,\u001b[0m \u001b[0mkey\u001b[0m\u001b[1;33m)\u001b[0m\u001b[1;33m:\u001b[0m\u001b[1;33m\u001b[0m\u001b[1;33m\u001b[0m\u001b[0m\n\u001b[0;32m     43\u001b[0m         \u001b[1;34m\"Exact matching (returns value)\"\u001b[0m\u001b[1;33m\u001b[0m\u001b[1;33m\u001b[0m\u001b[0m\n\u001b[1;32m---> 44\u001b[1;33m         \u001b[0mindex\u001b[0m \u001b[1;33m=\u001b[0m \u001b[0mself\u001b[0m\u001b[1;33m.\u001b[0m\u001b[0mfollow_bytes\u001b[0m\u001b[1;33m(\u001b[0m\u001b[0mkey\u001b[0m\u001b[1;33m,\u001b[0m \u001b[0mself\u001b[0m\u001b[1;33m.\u001b[0m\u001b[0mROOT\u001b[0m\u001b[1;33m)\u001b[0m\u001b[1;33m\u001b[0m\u001b[1;33m\u001b[0m\u001b[0m\n\u001b[0m\u001b[0;32m     45\u001b[0m         \u001b[1;32mif\u001b[0m \u001b[0mindex\u001b[0m \u001b[1;32mis\u001b[0m \u001b[1;32mNone\u001b[0m\u001b[1;33m:\u001b[0m\u001b[1;33m\u001b[0m\u001b[1;33m\u001b[0m\u001b[0m\n\u001b[0;32m     46\u001b[0m             \u001b[1;32mreturn\u001b[0m \u001b[1;33m-\u001b[0m\u001b[1;36m1\u001b[0m\u001b[1;33m\u001b[0m\u001b[1;33m\u001b[0m\u001b[0m\n",
      "\u001b[1;32mC:\\ProgramData\\Anaconda3\\lib\\site-packages\\dawg_python\\wrapper.py\u001b[0m in \u001b[0;36mfollow_bytes\u001b[1;34m(self, s, index)\u001b[0m\n\u001b[0;32m     62\u001b[0m         \u001b[1;34m\"Follows transitions.\"\u001b[0m\u001b[1;33m\u001b[0m\u001b[1;33m\u001b[0m\u001b[0m\n\u001b[0;32m     63\u001b[0m         \u001b[1;32mfor\u001b[0m \u001b[0mch\u001b[0m \u001b[1;32min\u001b[0m \u001b[0ms\u001b[0m\u001b[1;33m:\u001b[0m\u001b[1;33m\u001b[0m\u001b[1;33m\u001b[0m\u001b[0m\n\u001b[1;32m---> 64\u001b[1;33m             \u001b[0mindex\u001b[0m \u001b[1;33m=\u001b[0m \u001b[0mself\u001b[0m\u001b[1;33m.\u001b[0m\u001b[0mfollow_char\u001b[0m\u001b[1;33m(\u001b[0m\u001b[0mint_from_byte\u001b[0m\u001b[1;33m(\u001b[0m\u001b[0mch\u001b[0m\u001b[1;33m)\u001b[0m\u001b[1;33m,\u001b[0m \u001b[0mindex\u001b[0m\u001b[1;33m)\u001b[0m\u001b[1;33m\u001b[0m\u001b[1;33m\u001b[0m\u001b[0m\n\u001b[0m\u001b[0;32m     65\u001b[0m             \u001b[1;32mif\u001b[0m \u001b[0mindex\u001b[0m \u001b[1;32mis\u001b[0m \u001b[1;32mNone\u001b[0m\u001b[1;33m:\u001b[0m\u001b[1;33m\u001b[0m\u001b[1;33m\u001b[0m\u001b[0m\n\u001b[0;32m     66\u001b[0m                 \u001b[1;32mreturn\u001b[0m \u001b[1;32mNone\u001b[0m\u001b[1;33m\u001b[0m\u001b[1;33m\u001b[0m\u001b[0m\n",
      "\u001b[1;32mC:\\ProgramData\\Anaconda3\\lib\\site-packages\\dawg_python\\wrapper.py\u001b[0m in \u001b[0;36mfollow_char\u001b[1;34m(self, label, index)\u001b[0m\n\u001b[0;32m     51\u001b[0m     \u001b[1;32mdef\u001b[0m \u001b[0mfollow_char\u001b[0m\u001b[1;33m(\u001b[0m\u001b[0mself\u001b[0m\u001b[1;33m,\u001b[0m \u001b[0mlabel\u001b[0m\u001b[1;33m,\u001b[0m \u001b[0mindex\u001b[0m\u001b[1;33m)\u001b[0m\u001b[1;33m:\u001b[0m\u001b[1;33m\u001b[0m\u001b[1;33m\u001b[0m\u001b[0m\n\u001b[0;32m     52\u001b[0m         \u001b[1;34m\"Follows a transition\"\u001b[0m\u001b[1;33m\u001b[0m\u001b[1;33m\u001b[0m\u001b[0m\n\u001b[1;32m---> 53\u001b[1;33m         \u001b[0moffset\u001b[0m \u001b[1;33m=\u001b[0m \u001b[0munits\u001b[0m\u001b[1;33m.\u001b[0m\u001b[0moffset\u001b[0m\u001b[1;33m(\u001b[0m\u001b[0mself\u001b[0m\u001b[1;33m.\u001b[0m\u001b[0m_units\u001b[0m\u001b[1;33m[\u001b[0m\u001b[0mindex\u001b[0m\u001b[1;33m]\u001b[0m\u001b[1;33m)\u001b[0m\u001b[1;33m\u001b[0m\u001b[1;33m\u001b[0m\u001b[0m\n\u001b[0m\u001b[0;32m     54\u001b[0m         \u001b[0mnext_index\u001b[0m \u001b[1;33m=\u001b[0m \u001b[1;33m(\u001b[0m\u001b[0mindex\u001b[0m \u001b[1;33m^\u001b[0m \u001b[0moffset\u001b[0m \u001b[1;33m^\u001b[0m \u001b[0mlabel\u001b[0m\u001b[1;33m)\u001b[0m \u001b[1;33m&\u001b[0m \u001b[0munits\u001b[0m\u001b[1;33m.\u001b[0m\u001b[0mPRECISION_MASK\u001b[0m\u001b[1;33m\u001b[0m\u001b[1;33m\u001b[0m\u001b[0m\n\u001b[0;32m     55\u001b[0m \u001b[1;33m\u001b[0m\u001b[0m\n",
      "\u001b[1;31mKeyboardInterrupt\u001b[0m: "
     ]
    }
   ],
   "source": [
    "import pymorphy2\n",
    "from tqdm.notebook import tqdm\n",
    "import time\n",
    "\n",
    "morph = pymorphy2.MorphAnalyzer()\n",
    "\n",
    "new = df['new'].values.tolist()\n",
    "\n",
    "def lemmatize():\n",
    "    for lists in new:\n",
    "        for word in lists:\n",
    "            w = morph.parse(word)[0]\n",
    "            edited_lists.append(w.normal_form)\n",
    "    \n",
    "[lemmatize() for i in tqdm(range(1000))]\n",
    "\n",
    "df['new'] = edited_lists\n",
    "df.head()\n",
    "\n",
    "#[df2.apply(lemmatize) for i in tqdm(range(1000))]"
   ]
  },
  {
   "cell_type": "code",
   "execution_count": null,
   "metadata": {},
   "outputs": [],
   "source": [
    "'''\n",
    "bag = list()\n",
    "\n",
    "for text_token in text_tokens:\n",
    "    p = morph.parse(text_token)[0]\n",
    "    bag.append(p.normal_form)\n",
    "print(bag)\n",
    "'''"
   ]
  },
  {
   "cell_type": "code",
   "execution_count": 542,
   "metadata": {},
   "outputs": [],
   "source": [
    "import nltk\n",
    "#nltk.download()"
   ]
  },
  {
   "cell_type": "code",
   "execution_count": 547,
   "metadata": {},
   "outputs": [
    {
     "ename": "NameError",
     "evalue": "name 'text_tokens' is not defined",
     "output_type": "error",
     "traceback": [
      "\u001b[1;31m---------------------------------------------------------------------------\u001b[0m",
      "\u001b[1;31mNameError\u001b[0m                                 Traceback (most recent call last)",
      "\u001b[1;32m<ipython-input-547-ec5fcae5c23a>\u001b[0m in \u001b[0;36m<module>\u001b[1;34m\u001b[0m\n\u001b[0;32m      5\u001b[0m \u001b[1;33m\u001b[0m\u001b[0m\n\u001b[0;32m      6\u001b[0m \u001b[1;31m# Для применения инструментов частотного анализа библиотеки NLTK необходимо список токенов преобразовать к классу Text\u001b[0m\u001b[1;33m\u001b[0m\u001b[1;33m\u001b[0m\u001b[1;33m\u001b[0m\u001b[0m\n\u001b[1;32m----> 7\u001b[1;33m \u001b[0mtext\u001b[0m \u001b[1;33m=\u001b[0m \u001b[0mnltk\u001b[0m\u001b[1;33m.\u001b[0m\u001b[0mText\u001b[0m\u001b[1;33m(\u001b[0m\u001b[0mtext_tokens\u001b[0m\u001b[1;33m)\u001b[0m\u001b[1;33m\u001b[0m\u001b[1;33m\u001b[0m\u001b[0m\n\u001b[0m\u001b[0;32m      8\u001b[0m \u001b[0mprint\u001b[0m\u001b[1;33m(\u001b[0m\u001b[0mtype\u001b[0m\u001b[1;33m(\u001b[0m\u001b[0mtext\u001b[0m\u001b[1;33m)\u001b[0m\u001b[1;33m)\u001b[0m\u001b[1;33m\u001b[0m\u001b[1;33m\u001b[0m\u001b[0m\n\u001b[0;32m      9\u001b[0m \u001b[1;33m\u001b[0m\u001b[0m\n",
      "\u001b[1;31mNameError\u001b[0m: name 'text_tokens' is not defined"
     ]
    }
   ],
   "source": [
    "import nltk\n",
    "from nltk import word_tokenize\n",
    "from nltk.corpus import stopwords\n",
    "from nltk.probability import FreqDist\n",
    "\n",
    "# Для применения инструментов частотного анализа библиотеки NLTK необходимо список токенов преобразовать к классу Text\n",
    "text = nltk.Text(text_tokens)\n",
    "print(type(text))\n",
    "\n",
    "# Получим список стоп-слов для русского языка\n",
    "russian_stopwords = stopwords.words(\"russian\")  \n",
    "russian_stopwords.extend(['это', 'и', 'нем'])\n",
    "\n",
    "text_tokens = [token.strip() for token in text_tokens if token not in russian_stopwords]\n",
    "print(text_tokens, type(text_tokens), len(text_tokens))"
   ]
  },
  {
   "cell_type": "code",
   "execution_count": 544,
   "metadata": {},
   "outputs": [],
   "source": [
    "from tqdm.notebook import tqdm\n",
    "import time\n",
    "\n",
    "#data = df.apply(lemmatize)\n",
    "\n",
    "#[df2.apply(lemmatize) for i in tqdm(range(1000))]\n",
    "\n",
    "#tons = list(range(1000))\n",
    "#[tons for i in tqdm(range(1000))]"
   ]
  },
  {
   "cell_type": "markdown",
   "metadata": {},
   "source": [
    "###  Preparing to write the processed Dataset"
   ]
  },
  {
   "cell_type": "code",
   "execution_count": null,
   "metadata": {
    "scrolled": true
   },
   "outputs": [],
   "source": [
    "df.rename(columns={'new': 'Dict_token_freq'}, inplace=True)\n",
    "df.drop(\"Body\", axis=1, inplace=True) # delete a column Body\n",
    "\n",
    "df.head()"
   ]
  },
  {
   "cell_type": "markdown",
   "metadata": {},
   "source": [
    "### Writing a Dataset to an Excel file"
   ]
  },
  {
   "cell_type": "code",
   "execution_count": 549,
   "metadata": {},
   "outputs": [],
   "source": [
    "with pd.ExcelWriter('test.xlsx') as writer: \n",
    "    df.to_excel(writer)"
   ]
  }
 ],
 "metadata": {
  "kernelspec": {
   "display_name": "Python 3",
   "language": "python",
   "name": "python3"
  },
  "language_info": {
   "codemirror_mode": {
    "name": "ipython",
    "version": 3
   },
   "file_extension": ".py",
   "mimetype": "text/x-python",
   "name": "python",
   "nbconvert_exporter": "python",
   "pygments_lexer": "ipython3",
   "version": "3.8.5"
  }
 },
 "nbformat": 4,
 "nbformat_minor": 5
}
